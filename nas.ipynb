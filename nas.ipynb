{
 "cells": [
  {
   "cell_type": "code",
   "execution_count": 4,
   "id": "c0f84710-fa07-4ae7-a37f-f933992a5183",
   "metadata": {},
   "outputs": [
    {
     "name": "stdout",
     "output_type": "stream",
     "text": [
      "The autoreload extension is already loaded. To reload it, use:\n",
      "  %reload_ext autoreload\n"
     ]
    }
   ],
   "source": [
    "%load_ext autoreload\n",
    "%autoreload 2"
   ]
  },
  {
   "cell_type": "code",
   "execution_count": 5,
   "id": "fea5d599-883a-41b7-9084-a2c54697cd6d",
   "metadata": {},
   "outputs": [],
   "source": [
    "import numpy as np\n",
    "import numpy.random as rnd\n",
    "import numpy.linalg as la\n",
    "import polars as pl\n",
    "import pandas as pd\n",
    "import datetime as dt\n",
    "import os\n",
    "from pathlib import Path\n",
    "from dask.distributed import Client, LocalCluster, as_completed\n",
    "from dask import delayed\n",
    "from runpy import run_path\n",
    "import matplotlib.pyplot as plt\n",
    "import seaborn as sns\n",
    "from tqdm.notebook import tqdm\n",
    "import networkx as nx\n",
    "import raphtory as rp\n",
    "import umap.umap_ as umap\n",
    "import streamlit as st\n",
    "from sklearn.preprocessing import StandardScaler\n",
    "\n",
    "#import local2global as l2g # ADDED\n",
    "\n",
    "import torch\n",
    "import torch_geometric as tg\n",
    "from torch_geometric.data import Data\n",
    "from torch_geometric.utils.convert import from_networkx\n",
    "from torch_geometric.transforms import LargestConnectedComponents\n",
    "from torch_geometric.utils import to_networkx, from_networkx, one_hot\n",
    "from torch_geometric.nn import Node2Vec, GCNConv, VGAE\n",
    "import torch.nn.functional as F"
   ]
  },
  {
   "cell_type": "code",
   "execution_count": 6,
   "id": "41105a8c-205f-4c34-a8d9-142290acf71a",
   "metadata": {},
   "outputs": [],
   "source": [
    "from l2gv2.datasets import DataLoader\n",
    "from l2gv2.patch.patch import Patch"
   ]
  },
  {
   "cell_type": "code",
   "execution_count": 20,
   "id": "4e0c60d9-0060-42fd-8eb0-d2059bbb287a",
   "metadata": {},
   "outputs": [],
   "source": [
    "PATH = 'l2gv2/datasets/data/nas/'"
   ]
  },
  {
   "cell_type": "markdown",
   "id": "148e6778-b3bc-437a-b023-db0d538c05ff",
   "metadata": {},
   "source": [
    "# <font color=\"grey\">New Autonomous Systems dataset </font>"
   ]
  },
  {
   "cell_type": "markdown",
   "id": "ffc356df-39f0-4f1d-b98d-d4dcfe4665db",
   "metadata": {},
   "source": [
    "The purpose of this notebook is to walk through the graph embedding and alignment process in a self-contained way. The full existing Local2Global package is available [here](https://github.com/LJeub/Local2Global_embedding) and the expectation is to pick parts from it as a starting point. It is also available in on this repository in the Local2Global_embedding folder for reference."
   ]
  },
  {
   "cell_type": "markdown",
   "id": "0e4208fd-da21-4181-ae65-1fa8c152ea2c",
   "metadata": {},
   "source": [
    "### <font color=\"grey\">  Table of Contents</font>\n",
    "\n",
    "1. #### <a href='#chapter1'>Data</a>\n",
    "2. #### <a href='#chapter2'>Embedding</a>\n",
    "3. #### <a href='#chapter3'>Visualisation</a>"
   ]
  },
  {
   "cell_type": "markdown",
   "id": "6d903eb7-22ad-4900-8720-f79d3eb44790",
   "metadata": {},
   "source": [
    "###  <a id='chapter1'> <font color=\"grey\">1. Data </font></a>"
   ]
  },
  {
   "cell_type": "markdown",
   "id": "7d25865e-21a9-4e34-bf80-125bb3d22ca5",
   "metadata": {},
   "source": [
    "The data can be accessed via the dataloader. It is saved in the datasets/data/nas directory in two parquet files. There are many alternative ways of doing this. One option to explore is to have the datasets available as in [torch_geometric datasets](https://pytorch-geometric.readthedocs.io/en/2.6.0/modules/datasets.html)."
   ]
  },
  {
   "cell_type": "code",
   "execution_count": 7,
   "id": "38fcc940-390a-4039-aa4b-c136185c16d2",
   "metadata": {},
   "outputs": [],
   "source": [
    "dl = DataLoader(dset='nas')"
   ]
  },
  {
   "cell_type": "markdown",
   "id": "7dcfd3ee-0e5d-4a5e-aa09-30e0dc958132",
   "metadata": {},
   "source": [
    "The data is stored in one dataframe for the nodes (including all the features) and one for the edges (including edge weights)."
   ]
  },
  {
   "cell_type": "code",
   "execution_count": 8,
   "id": "f9273655-0c7c-4f2f-b40a-574d38773307",
   "metadata": {},
   "outputs": [
    {
     "data": {
      "text/html": [
       "<div><style>\n",
       ".dataframe > thead > tr,\n",
       ".dataframe > tbody > tr {\n",
       "  text-align: right;\n",
       "  white-space: pre-wrap;\n",
       "}\n",
       "</style>\n",
       "<small>shape: (5, 5)</small><table border=\"1\" class=\"dataframe\"><thead><tr><th>timestamp</th><th>nodes</th><th>nodetype</th><th>country</th><th>asname</th></tr><tr><td>datetime[μs]</td><td>str</td><td>str</td><td>str</td><td>str</td></tr></thead><tbody><tr><td>2024-09-14 00:00:00</td><td>&quot;AS7029&quot;</td><td>&quot;asn&quot;</td><td>&quot;US&quot;</td><td>&quot;WINDSTREAM&quot;</td></tr><tr><td>2024-09-14 00:00:00</td><td>&quot;AS32984&quot;</td><td>&quot;asn&quot;</td><td>&quot;US&quot;</td><td>&quot;RUELALA-INC&quot;</td></tr><tr><td>2024-09-14 00:00:00</td><td>&quot;AS136106&quot;</td><td>&quot;asn&quot;</td><td>&quot;ID&quot;</td><td>&quot;FIBERSTAR-AS-I&quot;</td></tr><tr><td>2024-09-14 00:00:00</td><td>&quot;AS58495&quot;</td><td>&quot;asn&quot;</td><td>&quot;ID&quot;</td><td>&quot;HSPNET-AS-I&quot;</td></tr><tr><td>2024-09-14 00:00:00</td><td>&quot;AS3491&quot;</td><td>&quot;asn&quot;</td><td>&quot;US&quot;</td><td>&quot;BTN-ASN&quot;</td></tr></tbody></table></div>"
      ],
      "text/plain": [
       "shape: (5, 5)\n",
       "┌─────────────────────┬──────────┬──────────┬─────────┬────────────────┐\n",
       "│ timestamp           ┆ nodes    ┆ nodetype ┆ country ┆ asname         │\n",
       "│ ---                 ┆ ---      ┆ ---      ┆ ---     ┆ ---            │\n",
       "│ datetime[μs]        ┆ str      ┆ str      ┆ str     ┆ str            │\n",
       "╞═════════════════════╪══════════╪══════════╪═════════╪════════════════╡\n",
       "│ 2024-09-14 00:00:00 ┆ AS7029   ┆ asn      ┆ US      ┆ WINDSTREAM     │\n",
       "│ 2024-09-14 00:00:00 ┆ AS32984  ┆ asn      ┆ US      ┆ RUELALA-INC    │\n",
       "│ 2024-09-14 00:00:00 ┆ AS136106 ┆ asn      ┆ ID      ┆ FIBERSTAR-AS-I │\n",
       "│ 2024-09-14 00:00:00 ┆ AS58495  ┆ asn      ┆ ID      ┆ HSPNET-AS-I    │\n",
       "│ 2024-09-14 00:00:00 ┆ AS3491   ┆ asn      ┆ US      ┆ BTN-ASN        │\n",
       "└─────────────────────┴──────────┴──────────┴─────────┴────────────────┘"
      ]
     },
     "execution_count": 8,
     "metadata": {},
     "output_type": "execute_result"
    }
   ],
   "source": [
    "# Get the nodes\n",
    "node_df = dl.get_nodes()\n",
    "node_df.head()"
   ]
  },
  {
   "cell_type": "code",
   "execution_count": 9,
   "id": "149a77d9-d83c-45ff-a933-a774c50da54b",
   "metadata": {},
   "outputs": [
    {
     "data": {
      "text/html": [
       "<div><style>\n",
       ".dataframe > thead > tr,\n",
       ".dataframe > tbody > tr {\n",
       "  text-align: right;\n",
       "  white-space: pre-wrap;\n",
       "}\n",
       "</style>\n",
       "<small>shape: (5, 4)</small><table border=\"1\" class=\"dataframe\"><thead><tr><th>timestamp</th><th>source</th><th>dest</th><th>weight</th></tr><tr><td>datetime[μs]</td><td>str</td><td>str</td><td>i64</td></tr></thead><tbody><tr><td>2024-09-14 00:00:00</td><td>&quot;AS7029&quot;</td><td>&quot;AS32984&quot;</td><td>1</td></tr><tr><td>2024-09-14 00:00:00</td><td>&quot;AS7029&quot;</td><td>&quot;AS19692&quot;</td><td>1</td></tr><tr><td>2024-09-14 00:00:00</td><td>&quot;AS7029&quot;</td><td>&quot;AS55037&quot;</td><td>1</td></tr><tr><td>2024-09-14 00:00:00</td><td>&quot;AS7029&quot;</td><td>&quot;AS1820&quot;</td><td>1</td></tr><tr><td>2024-09-14 00:00:00</td><td>&quot;AS7029&quot;</td><td>&quot;AS16265&quot;</td><td>1</td></tr></tbody></table></div>"
      ],
      "text/plain": [
       "shape: (5, 4)\n",
       "┌─────────────────────┬────────┬─────────┬────────┐\n",
       "│ timestamp           ┆ source ┆ dest    ┆ weight │\n",
       "│ ---                 ┆ ---    ┆ ---     ┆ ---    │\n",
       "│ datetime[μs]        ┆ str    ┆ str     ┆ i64    │\n",
       "╞═════════════════════╪════════╪═════════╪════════╡\n",
       "│ 2024-09-14 00:00:00 ┆ AS7029 ┆ AS32984 ┆ 1      │\n",
       "│ 2024-09-14 00:00:00 ┆ AS7029 ┆ AS19692 ┆ 1      │\n",
       "│ 2024-09-14 00:00:00 ┆ AS7029 ┆ AS55037 ┆ 1      │\n",
       "│ 2024-09-14 00:00:00 ┆ AS7029 ┆ AS1820  ┆ 1      │\n",
       "│ 2024-09-14 00:00:00 ┆ AS7029 ┆ AS16265 ┆ 1      │\n",
       "└─────────────────────┴────────┴─────────┴────────┘"
      ]
     },
     "execution_count": 9,
     "metadata": {},
     "output_type": "execute_result"
    }
   ],
   "source": [
    "edge_df = dl.get_edges()\n",
    "edge_df.head()"
   ]
  },
  {
   "cell_type": "markdown",
   "id": "e47ee1fa-6bd2-41ae-bd74-36d3af72bdbe",
   "metadata": {},
   "source": [
    "Ultimately, working with the people at Pometry, we want to use the [Raphtory](https://www.raphtory.com/) graph format."
   ]
  },
  {
   "cell_type": "code",
   "execution_count": 10,
   "id": "c87a8252-ff89-4fe2-8a37-fd4e9cb0154f",
   "metadata": {},
   "outputs": [
    {
     "data": {
      "application/vnd.jupyter.widget-view+json": {
       "model_id": "2c5537ca303b46548bef9941e31ab8c9",
       "version_major": 2,
       "version_minor": 0
      },
      "text/plain": [
       "HBox(children=(HTML(value=''), IntProgress(value=0, max=16717484), HTML(value='')))"
      ]
     },
     "metadata": {},
     "output_type": "display_data"
    },
    {
     "data": {
      "application/vnd.jupyter.widget-view+json": {
       "model_id": "73682111b8ff44049710c74a8e1c2f11",
       "version_major": 2,
       "version_minor": 0
      },
      "text/plain": [
       "HBox(children=(HTML(value=''), IntProgress(value=0, max=2538974), HTML(value='')))"
      ]
     },
     "metadata": {},
     "output_type": "display_data"
    }
   ],
   "source": [
    "# Raphtory format\n",
    "g = dl.get_graph()"
   ]
  },
  {
   "cell_type": "markdown",
   "id": "1ca43c1c-c500-4597-b07e-61e751c6aa66",
   "metadata": {},
   "source": [
    "The Raphtory formal is still work in progress but one can contribute to their code (based in Rust), contribute to the discussion on their Slack (linked on their page) or directly get in touch with [Lucas Jeub](https://github.com/LJeub) and/or Ben Steer."
   ]
  },
  {
   "cell_type": "code",
   "execution_count": 11,
   "id": "d399ac6b-0eb2-40ea-bb32-37d6b0f0892d",
   "metadata": {},
   "outputs": [
    {
     "name": "stdout",
     "output_type": "stream",
     "text": [
      "Stats on the graph structure:\n",
      "Number of nodes (AS nodes): 85428\n",
      "Number of unique edges (src,dst): 914346\n",
      "Total interactions (edge updates): 16717484\n",
      "Stats on the graphs time range:\n",
      "Earliest datetime: 2024-09-14 00:00:00+00:00\n",
      "Latest datetime: 2024-10-13 00:00:00+00:00\n"
     ]
    }
   ],
   "source": [
    "print(\"Stats on the graph structure:\")\n",
    "\n",
    "number_of_nodes = g.count_nodes()\n",
    "number_of_edges = g.count_edges()\n",
    "total_interactions = g.count_temporal_edges()\n",
    "\n",
    "print(\"Number of nodes (AS nodes):\", number_of_nodes)\n",
    "print(\"Number of unique edges (src,dst):\", number_of_edges)\n",
    "print(\"Total interactions (edge updates):\", total_interactions)\n",
    "\n",
    "print(\"Stats on the graphs time range:\")\n",
    "\n",
    "earliest_datetime = g.earliest_date_time\n",
    "latest_datetime = g.latest_date_time\n",
    "\n",
    "print(\"Earliest datetime:\", earliest_datetime)\n",
    "print(\"Latest datetime:\", latest_datetime)"
   ]
  },
  {
   "cell_type": "code",
   "execution_count": 12,
   "id": "15a91cb9-ff6a-4fcd-8fbc-aecde67fee67",
   "metadata": {},
   "outputs": [
    {
     "name": "stdout",
     "output_type": "stream",
     "text": [
      "The node features are:  ['asname', 'country', 'nodetype']\n"
     ]
    }
   ],
   "source": [
    "print(\"The node features are: \", g.nodes.properties.keys())"
   ]
  },
  {
   "cell_type": "markdown",
   "id": "2cf8afc9-aaa4-4bfc-a99a-4dcda9795f0b",
   "metadata": {},
   "source": [
    "The graphs we are dealing are **temporal**, meaning that nodes and edges have timestamps. One can interpret this as having one graph for each point in time, with a possible overlap of nodes and edges."
   ]
  },
  {
   "cell_type": "code",
   "execution_count": 13,
   "id": "994cb72f-23c6-4151-b0fd-bf4b30340a7c",
   "metadata": {},
   "outputs": [],
   "source": [
    "dates = dl.get_dates()"
   ]
  },
  {
   "cell_type": "markdown",
   "id": "839cff93-80cf-42f4-bfe4-ed4234e88a4d",
   "metadata": {},
   "source": [
    "For this particular dataset, the graph for each day represents a patch. In order to apply graph neural networks to each patch, we need to process these into the Data format used by pytorch-geometric, described [here](https://pytorch-geometric.readthedocs.io/en/latest/get_started/introduction.html). In particular, for each patch we need to enumerate the nodes and use these indices to designate the nodes. We need a dictionary that maps the nodes in each patch to their names and we need to encode the node and edge features."
   ]
  },
  {
   "cell_type": "code",
   "execution_count": 54,
   "id": "0904dda0-2028-49fc-95fd-8044f9db1a3a",
   "metadata": {},
   "outputs": [],
   "source": [
    "all_node_names = dl.get_node_list()\n",
    "nodes_index = {x : i for i, x in enumerate(all_node_names)}\n",
    "all_nodes = list(nodes_index.values())"
   ]
  },
  {
   "cell_type": "code",
   "execution_count": 57,
   "id": "1ad726d0-98c2-4e50-b173-b4a81b4e547e",
   "metadata": {},
   "outputs": [],
   "source": [
    "# Encode nodes present at each date\n",
    "nodes = {}\n",
    "node_dict = {}\n",
    "for d in dates:\n",
    "    temp_nodes = dl.get_node_list(ts=d)\n",
    "    nodes[d] = [nodes_index[x] for x in temp_nodes]\n",
    "    node_dict[d] = {x : i for i, x in enumerate(nodes[d])}"
   ]
  },
  {
   "cell_type": "code",
   "execution_count": 17,
   "id": "e51fabc9-a781-4512-adf4-dcb15276a250",
   "metadata": {},
   "outputs": [],
   "source": [
    "list_nodes_renumbered=[]\n",
    "for l in all_nodes:\n",
    "    list_nodes_renumbered.append( [nodex_index[i] for i in l])"
   ]
  },
  {
   "cell_type": "code",
   "execution_count": 21,
   "id": "b82e628b-08e8-4aa0-aa62-6b25d2c1e9b8",
   "metadata": {},
   "outputs": [],
   "source": [
    "# Encode country codes\n",
    "cc = pl.read_csv(PATH+'country_codes.csv')\n",
    "countrycode_dict = dict(zip(cc[\"alpha-2\"].to_list(), range(cc.shape[0])))\n",
    "#cc_one_hot = one_hot(torch.tensor(list(countrycode_dict.values()), dtype=torch.int64))"
   ]
  },
  {
   "cell_type": "code",
   "execution_count": 22,
   "id": "f9d614f4-7a6f-4b24-b743-e4591a1ec16b",
   "metadata": {},
   "outputs": [],
   "source": [
    "# Assign country code index to each node. The way this is done is a bit convoluted, as some nodes are assigned to both a country and to 'ZZ'\n",
    "# in the database, so we need to fix that. This should be done in pre-processing\n",
    "df = dl.get_nodes().with_columns(\n",
    "    pl.col(\"country\").replace(old=pl.Series(countrycode_dict.keys()), new=pl.Series(countrycode_dict.values())).cast(pl.Int64).alias('cc')\n",
    ").select([\"nodes\", \"cc\"]).group_by(\"nodes\").agg(pl.col(\"cc\").min().cast(pl.Int64).alias(\"cc\")).sort([\"cc\",\"nodes\"])\n",
    "node_cc_dict = dict(zip(df[\"nodes\"].to_list(), df[\"cc\"].to_list()))"
   ]
  },
  {
   "cell_type": "code",
   "execution_count": 23,
   "id": "4f87d7aa-70de-4bdc-b54e-4ba41b655c6f",
   "metadata": {},
   "outputs": [],
   "source": [
    "# For every day, create a list of node features\n",
    "features = {}\n",
    "for d in dates:\n",
    "    features[d] = one_hot(torch.tensor(dl.get_nodes(ts=d).select(\n",
    "        pl.col(\"country\").replace(old=pl.Series(countrycode_dict.keys()), new=pl.Series(countrycode_dict.values())).cast(pl.Int64)\n",
    "    ).to_numpy().flatten()))"
   ]
  },
  {
   "cell_type": "code",
   "execution_count": 24,
   "id": "1470fe0a-a8b6-4151-8e1e-2fcd210b13d6",
   "metadata": {},
   "outputs": [
    {
     "data": {
      "text/plain": [
       "torch.Size([84575, 250])"
      ]
     },
     "execution_count": 24,
     "metadata": {},
     "output_type": "execute_result"
    }
   ],
   "source": [
    "features[dates[3]].shape"
   ]
  },
  {
   "cell_type": "code",
   "execution_count": 25,
   "id": "3dccedc3-6521-4158-90bf-aba33f2d902e",
   "metadata": {},
   "outputs": [
    {
     "data": {
      "application/vnd.jupyter.widget-view+json": {
       "model_id": "c1769709a0174263b4ca94e41b070358",
       "version_major": 2,
       "version_minor": 0
      },
      "text/plain": [
       "  0%|          | 0/30 [00:00<?, ?it/s]"
      ]
     },
     "metadata": {},
     "output_type": "display_data"
    }
   ],
   "source": [
    "# Create pytorch-geometric Data object\n",
    "tg_graphs = {}\n",
    "for d in tqdm(dates):\n",
    "    edges = dl.edges.filter(pl.col('timestamp')==d).select(\n",
    "        pl.col('source').replace(old=pl.Series(node_dict[d].keys()), new=pl.Series(node_dict[d].values())).cast(pl.Int64),\n",
    "        pl.col('dest').replace(old=pl.Series(node_dict[d].keys()), new=pl.Series(node_dict[d].values())).cast(pl.Int64)\n",
    "    ).to_numpy()\n",
    "    edge_index = torch.tensor([tuple(x) for x in edges], dtype=torch.long).t().contiguous()\n",
    "    tgraph = Data(edge_index=edge_index)\n",
    "    # Add features - problem is that for the embedding we only want those present at a given time\n",
    "    tgraph.x = features[d]\n",
    "    tg_graphs[d] = tgraph"
   ]
  },
  {
   "cell_type": "code",
   "execution_count": 26,
   "id": "692f927b-87d3-4ca3-885b-fab11ee7e71a",
   "metadata": {},
   "outputs": [],
   "source": [
    "for i, d in enumerate(dates):\n",
    "    tg_graphs[d].nodes=torch.tensor(list_nodes_renumbered[i])"
   ]
  },
  {
   "cell_type": "code",
   "execution_count": 27,
   "id": "1f3c578c-6df9-4437-9121-ef9d1e675235",
   "metadata": {},
   "outputs": [],
   "source": [
    "# Select one date to test embedding\n",
    "data = tg_graphs[dates[0]]"
   ]
  },
  {
   "cell_type": "markdown",
   "id": "762d7280-9de2-4f2d-8e5d-daf738cf928f",
   "metadata": {},
   "source": [
    "###  <a id='chapter2'> <font color=\"grey\">2. Embedding </font></a>"
   ]
  },
  {
   "cell_type": "markdown",
   "id": "faab9f1c-2fd1-4f6f-bd65-8d8ce24185ab",
   "metadata": {},
   "source": [
    "For the embedding, we use the architecture of a Variational Graph Autoencoder. Given a graph $G=(V,E)$ with $|V|=n$ nodes and node features $\\vct{x}_i\\in \\R^d$, $i\\in [n]$, denote by $\\vct{X}=[\\vct{x}_1,\\dots,\\vct{x}_n]^T\\in \\R^{n\\times d}$ the features matrix and by $A=(a_{ij})\\in \\{0,1\\}^{n\\times n}$ the adjacency matrix of the graph. The **encoder** produces latent representations $\\vct{z}_i\\in \\R^k$ for $i\\in [n]$, which are sampled from the inference model\n",
    "\\begin{equation*}\n",
    "  q(\\vct{z}_i \\ | \\ \\vct{X},\\vct{A}) = \\mathcal{N}(\\vct{z}_i \\ | \\ \\vct{\\mu}_i,\\mathrm{diag}(\\vct{\\sigma}_i)).\n",
    "\\end{equation*}\n",
    "The means $\\mu_i$ and variances $\\mathrm{diag}(\\vct{\\sigma}_i)$ are parametrized using an encoder network, for example, a graph convolutional neural network (GCN). Denoting by $\\vct{Z}=[\\vct{z}_1,\\dots,\\vct{z}_n]^T$ the matrix of latent represenations and by $\\vct{\\mu}$ and $\\vct{\\sigma}$ the matrices representing the means and variances, we have\n",
    "\\begin{equation*}\n",
    "  \\vct{\\mu} = \\mathrm{GCN}_{\\mu}(\\vct{X},\\vct{A}), \\quad \\quad \\log \\vct{\\sigma} = \\mathrm{GCN}_{\\sigma}(\\vct{X},\\vct{A}).\n",
    "\\end{equation*}\n",
    "The **generative model** is a distribution on the adjacency matrix,\n",
    "\\begin{equation*}\n",
    "  p(\\mtx{A}\\ | \\ \\vct{Z}) = \\prod_{i,j} p(a_{ij} \\ | \\ \\vct{z}_i,\\vct{z}_j).\n",
    "\\end{equation*}\n",
    "It is convenient to use\n",
    "\\begin{equation*}\n",
    "  p(a_{ij}=1 \\ | \\ \\vct{z}_i,\\vct{z}_j) = \\sigma(\\vct{z}_i^T\\vct{z}_j),\n",
    "\\end{equation*}\n",
    "\n",
    "where $\\sigma$ is the logistic sigmoid. In order to train the model, we optimize the evidence lower bound\n",
    "\\begin{equation*}\n",
    "  \\mathcal{L} = \\Expect_{q(\\vct{Z}\\ | \\ \\vct{X},\\vct{A})}[\\log p(\\mtx{A}\\ | \\ \\mtx{Z})]-\\mathrm{D}_{\\mathrm{KL}}(q(\\mtx{Z}\\ | \\ \\mtx{X},\\mtx{A}) \\ \\| \\ p(\\mtx{Z})).\n",
    "\\end{equation*}"
   ]
  },
  {
   "cell_type": "code",
   "execution_count": 28,
   "id": "60438f44-f829-4cd8-9099-11dbda0ab78a",
   "metadata": {},
   "outputs": [],
   "source": [
    "class Encoder(torch.nn.Module):\n",
    "    \"\"\"\n",
    "    Implement a Graph Convolutional Network (GCN) as encoder\n",
    "    \"\"\"\n",
    "    def __init__(self, dim, num_node_features, hidden_dim=128, cached=True, bias=True, add_self_loops=True, normalize=True):\n",
    "        super().__init__()\n",
    "        self.x_conv = tg.nn.GCNConv(num_node_features, \n",
    "                                    hidden_dim, \n",
    "                                    cached=cached, \n",
    "                                    bias=bias, \n",
    "                                    add_self_loops=add_self_loops,\n",
    "                                    normalize=normalize)\n",
    "        self.mean_conv = tg.nn.GCNConv(hidden_dim, \n",
    "                                       dim, \n",
    "                                       cached=cached,\n",
    "                                       bias=bias, \n",
    "                                       add_self_loops=add_self_loops,\n",
    "                                       normalize=normalize)\n",
    "        self.var_conv = tg.nn.GCNConv(hidden_dim, \n",
    "                                      dim, \n",
    "                                      cached=cached, \n",
    "                                      bias=bias, add_self_loops=add_self_loops,\n",
    "                                      normalize=normalize)\n",
    "\n",
    "    def forward(self, data):\n",
    "        x = data.x\n",
    "        edge_index = data.edge_index\n",
    "\n",
    "        x = self.x_conv(x, edge_index)\n",
    "        x = F.relu(x)\n",
    "\n",
    "        mu = self.mean_conv(x, edge_index)\n",
    "        sigma = self.var_conv(x, edge_index)\n",
    "        return mu, sigma"
   ]
  },
  {
   "cell_type": "code",
   "execution_count": 29,
   "id": "1e2060dc-6804-49eb-aa5b-0a74b568d3f8",
   "metadata": {},
   "outputs": [],
   "source": [
    "model = VGAE(encoder=Encoder(64, data.num_node_features))\n",
    "#model = VGAE(encoder=VGAEconv(2, test_data.num_node_features))"
   ]
  },
  {
   "cell_type": "code",
   "execution_count": 30,
   "id": "f8bdd17a-0950-4842-bf10-198448ba843a",
   "metadata": {},
   "outputs": [],
   "source": [
    "def VGAE_loss(model, data):\n",
    "    return model.recon_loss(model.encode(data), data.edge_index) + model.kl_loss() / data.num_nodes"
   ]
  },
  {
   "cell_type": "code",
   "execution_count": 31,
   "id": "5952dc3e-2d6d-4070-8e68-09e827820147",
   "metadata": {},
   "outputs": [],
   "source": [
    "def train(data, model, loss_fun, num_epochs=100, verbose=True, lr=0.01, logger=lambda loss: None):\n",
    "    losses = []\n",
    "    optimizer = torch.optim.Adam(model.parameters(), lr=lr)\n",
    "    # optimizer = torch.optim.SGD(model.parameters(), lr=0.01)\n",
    "    # schedule = torch.optim.lr_scheduler.CosineAnnealingLR(optimizer, num_epochs)\n",
    "    for e in tqdm(range(num_epochs)):\n",
    "        optimizer.zero_grad()\n",
    "        loss = loss_fun(model, data)\n",
    "        loss.backward()\n",
    "        optimizer.step()\n",
    "        losses.append(float(loss))\n",
    "        if verbose:\n",
    "            if not e % 20:\n",
    "                print(f'epoch {e}: loss={loss.item()}')\n",
    "        # schedule.step()\n",
    "    return model, losses"
   ]
  },
  {
   "cell_type": "code",
   "execution_count": 32,
   "id": "613527ab-a063-4283-bd62-5ee3b58121a5",
   "metadata": {},
   "outputs": [
    {
     "data": {
      "application/vnd.jupyter.widget-view+json": {
       "model_id": "ec877c23773742cb97449f1ca86d0b5b",
       "version_major": 2,
       "version_minor": 0
      },
      "text/plain": [
       "  0%|          | 0/100 [00:00<?, ?it/s]"
      ]
     },
     "metadata": {},
     "output_type": "display_data"
    },
    {
     "name": "stdout",
     "output_type": "stream",
     "text": [
      "epoch 0: loss=6.706134796142578\n",
      "epoch 20: loss=0.9890369176864624\n",
      "epoch 40: loss=0.9149158596992493\n",
      "epoch 60: loss=0.8871313333511353\n",
      "epoch 80: loss=0.8734854459762573\n"
     ]
    }
   ],
   "source": [
    "model, losses = train(data, model, VGAE_loss, num_epochs=100)"
   ]
  },
  {
   "cell_type": "code",
   "execution_count": 33,
   "id": "2ab6bc1b-7f0b-440e-bb1e-193136cecac5",
   "metadata": {},
   "outputs": [
    {
     "data": {
      "image/png": "[encoded data removed]",
      "text/plain": [
       "<Figure size 640x480 with 1 Axes>"
      ]
     },
     "metadata": {},
     "output_type": "display_data"
    }
   ],
   "source": [
    "plt.plot(losses)\n",
    "plt.show()"
   ]
  },
  {
   "cell_type": "code",
   "execution_count": 34,
   "id": "eaa00692-b04c-45fc-b44f-f8db54d5b4be",
   "metadata": {},
   "outputs": [
    {
     "data": {
      "text/plain": [
       "(84592, 64)"
      ]
     },
     "execution_count": 34,
     "metadata": {},
     "output_type": "execute_result"
    }
   ],
   "source": [
    "embedding = model.encode(data).detach().numpy()\n",
    "embedding.shape"
   ]
  },
  {
   "cell_type": "markdown",
   "id": "822c64b9-04a9-48c8-90b1-41bff00a7de5",
   "metadata": {},
   "source": [
    "In the original L2G code, there is a Patch class handling patches."
   ]
  },
  {
   "cell_type": "markdown",
   "id": "7ad01511-5965-4676-8b56-dd304d2ec538",
   "metadata": {},
   "source": [
    "###  <a id='chapter3'> <font color=\"grey\">3. Visualisation </font></a>"
   ]
  },
  {
   "cell_type": "code",
   "execution_count": 35,
   "id": "9cd75dab-3105-454f-a615-df326670871b",
   "metadata": {},
   "outputs": [],
   "source": [
    "most_common = ['AU', 'BR', 'CN', 'DE', 'IN', 'ID', 'PL', 'RU', 'GB', 'US']\n",
    "countries = dl.get_nodes(ts=dates[0])['country'].to_list()\n",
    "indices = [i for i in range(len(countries)) if countries[i] in most_common]"
   ]
  },
  {
   "cell_type": "code",
   "execution_count": 36,
   "id": "4961ad0e-e22e-4160-a742-4e461bfa4741",
   "metadata": {},
   "outputs": [],
   "source": [
    "points = embedding[indices, :]\n",
    "labels = [most_common.index(countries[i]) for i in indices]"
   ]
  },
  {
   "cell_type": "code",
   "execution_count": 37,
   "id": "24c57c17-115a-4aee-8d9f-cd69d89901e0",
   "metadata": {},
   "outputs": [],
   "source": [
    "# Use UMAP to visualise the graph embeddings for different days\n",
    "reducer = umap.UMAP(n_neighbors=5, min_dist=0.0, metric='euclidean')"
   ]
  },
  {
   "cell_type": "code",
   "execution_count": 38,
   "id": "d8ede66a-8b07-4a10-8121-9645d8f5dd13",
   "metadata": {},
   "outputs": [],
   "source": [
    "#points = StandardScaler().fit_transform(points)"
   ]
  },
  {
   "cell_type": "code",
   "execution_count": 39,
   "id": "44b68f64-9fd7-4ad5-8aad-d0939325a330",
   "metadata": {},
   "outputs": [
    {
     "name": "stderr",
     "output_type": "stream",
     "text": [
      "OMP: Info #276: omp_set_nested routine deprecated, please use omp_set_max_active_levels instead.\n"
     ]
    }
   ],
   "source": [
    "umap_embedding = reducer.fit_transform(points)"
   ]
  },
  {
   "cell_type": "code",
   "execution_count": 40,
   "id": "159fcea7-f8e9-49d6-b371-ec3128dac17a",
   "metadata": {},
   "outputs": [
    {
     "data": {
      "image/png": "[encoded data removed]",
      "text/plain": [
       "<Figure size 1200x1200 with 1 Axes>"
      ]
     },
     "metadata": {},
     "output_type": "display_data"
    }
   ],
   "source": [
    "fig, ax = plt.subplots(1, 1, figsize=(12,12))\n",
    "ax.scatter(\n",
    "    umap_embedding[:, 0],\n",
    "    umap_embedding[:, 1],\n",
    "    c=[sns.color_palette()[x] for x in labels],\n",
    "    lw=1\n",
    ")\n",
    "plt.gca().set_aspect('equal', 'datalim')\n",
    "plt.title('UMAP Embedding', fontsize=12)\n",
    "plt.show()"
   ]
  },
  {
   "cell_type": "code",
   "execution_count": 41,
   "id": "e2d47bb4-4345-497e-9fdf-a0a2a0ac41c5",
   "metadata": {},
   "outputs": [
    {
     "data": {
      "image/png": "[encoded data removed]",
      "text/plain": [
       "<Figure size 1200x1200 with 1 Axes>"
      ]
     },
     "metadata": {},
     "output_type": "display_data"
    }
   ],
   "source": [
    "fig, ax = plt.subplots(1, 1, figsize=(12,12))\n",
    "ax.scatter(\n",
    "    umap_embedding[:, 0],\n",
    "    umap_embedding[:, 1],\n",
    "    c=[sns.color_palette()[x] for x in labels],\n",
    "    lw=1\n",
    ")\n",
    "plt.gca().set_aspect('equal', 'datalim')\n",
    "plt.title('UMAP Embedding', fontsize=12)\n",
    "plt.show()"
   ]
  },
  {
   "cell_type": "code",
   "execution_count": 43,
   "id": "a7ef4871-a108-4071-8411-0ccbcfac5731",
   "metadata": {},
   "outputs": [
    {
     "data": {
      "application/vnd.jupyter.widget-view+json": {
       "model_id": "88a3dbf8bc5c4b8da451309b16df80a6",
       "version_major": 2,
       "version_minor": 0
      },
      "text/plain": [
       "  0%|          | 0/5 [00:00<?, ?it/s]"
      ]
     },
     "metadata": {},
     "output_type": "display_data"
    },
    {
     "name": "stdout",
     "output_type": "stream",
     "text": [
      "epoch 0: loss=6.639428615570068\n"
     ]
    },
    {
     "data": {
      "application/vnd.jupyter.widget-view+json": {
       "model_id": "443c875b823f46eabcf205fb5ebe1106",
       "version_major": 2,
       "version_minor": 0
      },
      "text/plain": [
       "  0%|          | 0/5 [00:00<?, ?it/s]"
      ]
     },
     "metadata": {},
     "output_type": "display_data"
    },
    {
     "name": "stdout",
     "output_type": "stream",
     "text": [
      "epoch 0: loss=6.698056221008301\n"
     ]
    },
    {
     "data": {
      "application/vnd.jupyter.widget-view+json": {
       "model_id": "fb7d5593face41d9886d79ad87337d55",
       "version_major": 2,
       "version_minor": 0
      },
      "text/plain": [
       "  0%|          | 0/5 [00:00<?, ?it/s]"
      ]
     },
     "metadata": {},
     "output_type": "display_data"
    },
    {
     "name": "stdout",
     "output_type": "stream",
     "text": [
      "epoch 0: loss=6.647350311279297\n"
     ]
    },
    {
     "data": {
      "application/vnd.jupyter.widget-view+json": {
       "model_id": "59ff0368d69a4bdeb2e0d750b9b4fc44",
       "version_major": 2,
       "version_minor": 0
      },
      "text/plain": [
       "  0%|          | 0/5 [00:00<?, ?it/s]"
      ]
     },
     "metadata": {},
     "output_type": "display_data"
    },
    {
     "name": "stdout",
     "output_type": "stream",
     "text": [
      "epoch 0: loss=6.70219612121582\n"
     ]
    },
    {
     "data": {
      "application/vnd.jupyter.widget-view+json": {
       "model_id": "33c78a1a88ca4bd7b302289bf9e9c4e0",
       "version_major": 2,
       "version_minor": 0
      },
      "text/plain": [
       "  0%|          | 0/5 [00:00<?, ?it/s]"
      ]
     },
     "metadata": {},
     "output_type": "display_data"
    },
    {
     "name": "stdout",
     "output_type": "stream",
     "text": [
      "epoch 0: loss=6.650152683258057\n"
     ]
    }
   ],
   "source": [
    "\n",
    "#patch_list = []\n",
    "models = []\n",
    "embeddings = []\n",
    "patch_emb=[] #ADDED\n",
    "for d in dates[:5]:\n",
    "    patch = tg_graphs[d]\n",
    "    model = VGAE(encoder=Encoder(64, patch.num_node_features))\n",
    "    model, _ = train(patch, model, VGAE_loss, num_epochs=5, lr=0.01)\n",
    "    patch_emb.append(Patch(patch.nodes, model.encode(patch).detach().numpy())) #ADDED\n",
    "    #coordinates = model.encode(patch).detach().numpy()\n",
    "    models.append(model)"
   ]
  },
  {
   "cell_type": "code",
   "execution_count": 63,
   "id": "0f8a5313-190f-4b2c-9c9b-d379830e8c46",
   "metadata": {},
   "outputs": [
    {
     "data": {
      "text/plain": [
       "{188: 0,\n",
       " 1373: 1,\n",
       " 1333: 2,\n",
       " 4017: 3,\n",
       " 400: 4,\n",
       " 22410: 5,\n",
       " 1162: 6,\n",
       " 1607: 7,\n",
       " 466: 8,\n",
       " 1316: 9,\n",
       " 259: 10,\n",
       " 5144: 11,\n",
       " 10: 12,\n",
       " 14466: 13,\n",
       " 12361: 14,\n",
       " 22863: 15,\n",
       " 30702: 16,\n",
       " 2426: 17,\n",
       " 6751: 18,\n",
       " 1581: 19,\n",
       " 69495: 20,\n",
       " 36: 21,\n",
       " 17393: 22,\n",
       " 599: 23,\n",
       " 6650: 24,\n",
       " 1793: 25,\n",
       " 3421: 26,\n",
       " 81: 27,\n",
       " 8036: 28,\n",
       " 342: 29,\n",
       " 36945: 30,\n",
       " 25763: 31,\n",
       " 245: 32,\n",
       " 80351: 33,\n",
       " 578: 34,\n",
       " 734: 35,\n",
       " 123: 36,\n",
       " 16548: 37,\n",
       " 11911: 38,\n",
       " 17787: 39,\n",
       " 699: 40,\n",
       " 49524: 41,\n",
       " 5705: 42,\n",
       " 28878: 43,\n",
       " 4647: 44,\n",
       " 6715: 45,\n",
       " 1245: 46,\n",
       " 270: 47,\n",
       " 430: 48,\n",
       " 5774: 49,\n",
       " 311: 50,\n",
       " 853: 51,\n",
       " 254: 52,\n",
       " 74: 53,\n",
       " 14640: 54,\n",
       " 1153: 55,\n",
       " 32: 56,\n",
       " 12571: 57,\n",
       " 309: 58,\n",
       " 57957: 59,\n",
       " 736: 60,\n",
       " 15217: 61,\n",
       " 56: 62,\n",
       " 34039: 63,\n",
       " 172: 64,\n",
       " 685: 65,\n",
       " 748: 66,\n",
       " 3343: 67,\n",
       " 661: 68,\n",
       " 44529: 69,\n",
       " 166: 70,\n",
       " 2629: 71,\n",
       " 1782: 72,\n",
       " 1668: 73,\n",
       " 1864: 74,\n",
       " 26426: 75,\n",
       " 1290: 76,\n",
       " 345: 77,\n",
       " 667: 78,\n",
       " 1210: 79,\n",
       " 629: 80,\n",
       " 836: 81,\n",
       " 58: 82,\n",
       " 12553: 83,\n",
       " 38: 84,\n",
       " 11560: 85,\n",
       " 94: 86,\n",
       " 1545: 87,\n",
       " 133: 88,\n",
       " 57880: 89,\n",
       " 1715: 90,\n",
       " 241: 91,\n",
       " 2157: 92,\n",
       " 29: 93,\n",
       " 36108: 94,\n",
       " 4474: 95,\n",
       " 1068: 96,\n",
       " 483: 97,\n",
       " 4087: 98,\n",
       " 16552: 99,\n",
       " 388: 100,\n",
       " 1563: 101,\n",
       " 532: 102,\n",
       " 8042: 103,\n",
       " 3747: 104,\n",
       " 317: 105,\n",
       " 87: 106,\n",
       " 276: 107,\n",
       " 20620: 108,\n",
       " 230: 109,\n",
       " 33072: 110,\n",
       " 3610: 111,\n",
       " 28409: 112,\n",
       " 58010: 113,\n",
       " 274: 114,\n",
       " 13250: 115,\n",
       " 7141: 116,\n",
       " 9101: 117,\n",
       " 1121: 118,\n",
       " 35100: 119,\n",
       " 261: 120,\n",
       " 24113: 121,\n",
       " 3175: 122,\n",
       " 52988: 123,\n",
       " 755: 124,\n",
       " 1813: 125,\n",
       " 30521: 126,\n",
       " 2006: 127,\n",
       " 51458: 128,\n",
       " 2510: 129,\n",
       " 776: 130,\n",
       " 1319: 131,\n",
       " 4380: 132,\n",
       " 41191: 133,\n",
       " 3699: 134,\n",
       " 1146: 135,\n",
       " 14462: 136,\n",
       " 1839: 137,\n",
       " 40341: 138,\n",
       " 1035: 139,\n",
       " 724: 140,\n",
       " 697: 141,\n",
       " 34092: 142,\n",
       " 233: 143,\n",
       " 7418: 144,\n",
       " 28: 145,\n",
       " 5657: 146,\n",
       " 1416: 147,\n",
       " 852: 148,\n",
       " 24198: 149,\n",
       " 3970: 150,\n",
       " 62: 151,\n",
       " 63974: 152,\n",
       " 1875: 153,\n",
       " 13106: 154,\n",
       " 13723: 155,\n",
       " 7880: 156,\n",
       " 624: 157,\n",
       " 5042: 158,\n",
       " 787: 159,\n",
       " 1149: 160,\n",
       " 628: 161,\n",
       " 5110: 162,\n",
       " 636: 163,\n",
       " 4607: 164,\n",
       " 39958: 165,\n",
       " 1926: 166,\n",
       " 1708: 167,\n",
       " 27174: 168,\n",
       " 4037: 169,\n",
       " 28185: 170,\n",
       " 889: 171,\n",
       " 64383: 172,\n",
       " 717: 173,\n",
       " 37289: 174,\n",
       " 371: 175,\n",
       " 4646: 176,\n",
       " 9672: 177,\n",
       " 2460: 178,\n",
       " 2721: 179,\n",
       " 280: 180,\n",
       " 572: 181,\n",
       " 2082: 182,\n",
       " 5897: 183,\n",
       " 1259: 184,\n",
       " 11232: 185,\n",
       " 4215: 186,\n",
       " 98: 187,\n",
       " 58929: 188,\n",
       " 740: 189,\n",
       " 963: 190,\n",
       " 13618: 191,\n",
       " 364: 192,\n",
       " 1426: 193,\n",
       " 5211: 194,\n",
       " 18155: 195,\n",
       " 2051: 196,\n",
       " 6827: 197,\n",
       " 52313: 198,\n",
       " 32688: 199,\n",
       " 4766: 200,\n",
       " 13943: 201,\n",
       " 74629: 202,\n",
       " 1123: 203,\n",
       " 9421: 204,\n",
       " 3319: 205,\n",
       " 1054: 206,\n",
       " 8545: 207,\n",
       " 160: 208,\n",
       " 16459: 209,\n",
       " 2251: 210,\n",
       " 7065: 211,\n",
       " 211: 212,\n",
       " 37496: 213,\n",
       " 42745: 214,\n",
       " 1079: 215,\n",
       " 6724: 216,\n",
       " 6759: 217,\n",
       " 2064: 218,\n",
       " 58767: 219,\n",
       " 2902: 220,\n",
       " 6828: 221,\n",
       " 1576: 222,\n",
       " 16612: 223,\n",
       " 64011: 224,\n",
       " 601: 225,\n",
       " 475: 226,\n",
       " 2822: 227,\n",
       " 16002: 228,\n",
       " 1033: 229,\n",
       " 12662: 230,\n",
       " 9022: 231,\n",
       " 22250: 232,\n",
       " 4223: 233,\n",
       " 61115: 234,\n",
       " 610: 235,\n",
       " 784: 236,\n",
       " 753: 237,\n",
       " 151: 238,\n",
       " 6929: 239,\n",
       " 72: 240,\n",
       " 1868: 241,\n",
       " 4742: 242,\n",
       " 26896: 243,\n",
       " 15333: 244,\n",
       " 2092: 245,\n",
       " 44657: 246,\n",
       " 438: 247,\n",
       " 69178: 248,\n",
       " 4497: 249,\n",
       " 7787: 250,\n",
       " 3450: 251,\n",
       " 200: 252,\n",
       " 16618: 253,\n",
       " 536: 254,\n",
       " 2520: 255,\n",
       " 1895: 256,\n",
       " 67301: 257,\n",
       " 25150: 258,\n",
       " 5631: 259,\n",
       " 15663: 260,\n",
       " 13564: 261,\n",
       " 49: 262,\n",
       " 384: 263,\n",
       " 20872: 264,\n",
       " 48: 265,\n",
       " 19020: 266,\n",
       " 112: 267,\n",
       " 831: 268,\n",
       " 3877: 269,\n",
       " 15111: 270,\n",
       " 45926: 271,\n",
       " 3776: 272,\n",
       " 705: 273,\n",
       " 3119: 274,\n",
       " 35548: 275,\n",
       " 186: 276,\n",
       " 8518: 277,\n",
       " 142: 278,\n",
       " 61707: 279,\n",
       " 27754: 280,\n",
       " 1676: 281,\n",
       " 11645: 282,\n",
       " 12343: 283,\n",
       " 61771: 284,\n",
       " 2595: 285,\n",
       " 31567: 286,\n",
       " 155: 287,\n",
       " 42: 288,\n",
       " 901: 289,\n",
       " 10551: 290,\n",
       " 450: 291,\n",
       " 6001: 292,\n",
       " 185: 293,\n",
       " 11325: 294,\n",
       " 1310: 295,\n",
       " 396: 296,\n",
       " 2305: 297,\n",
       " 769: 298,\n",
       " 2667: 299,\n",
       " 16402: 300,\n",
       " 18788: 301,\n",
       " 5387: 302,\n",
       " 54525: 303,\n",
       " 47540: 304,\n",
       " 664: 305,\n",
       " 2178: 306,\n",
       " 100: 307,\n",
       " 2266: 308,\n",
       " 284: 309,\n",
       " 1011: 310,\n",
       " 14034: 311,\n",
       " 3664: 312,\n",
       " 19326: 313,\n",
       " 56305: 314,\n",
       " 10554: 315,\n",
       " 454: 316,\n",
       " 13870: 317,\n",
       " 240: 318,\n",
       " 1007: 319,\n",
       " 690: 320,\n",
       " 452: 321,\n",
       " 35625: 322,\n",
       " 478: 323,\n",
       " 4232: 324,\n",
       " 4535: 325,\n",
       " 29924: 326,\n",
       " 2847: 327,\n",
       " 2733: 328,\n",
       " 235: 329,\n",
       " 2098: 330,\n",
       " 2140: 331,\n",
       " 2314: 332,\n",
       " 10315: 333,\n",
       " 7886: 334,\n",
       " 2486: 335,\n",
       " 145: 336,\n",
       " 3837: 337,\n",
       " 4798: 338,\n",
       " 11252: 339,\n",
       " 96: 340,\n",
       " 22889: 341,\n",
       " 5440: 342,\n",
       " 21788: 343,\n",
       " 394: 344,\n",
       " 1116: 345,\n",
       " 512: 346,\n",
       " 21783: 347,\n",
       " 3369: 348,\n",
       " 839: 349,\n",
       " 1013: 350,\n",
       " 626: 351,\n",
       " 4463: 352,\n",
       " 1504: 353,\n",
       " 3473: 354,\n",
       " 73132: 355,\n",
       " 8937: 356,\n",
       " 20979: 357,\n",
       " 3118: 358,\n",
       " 2447: 359,\n",
       " 15886: 360,\n",
       " 24066: 361,\n",
       " 848: 362,\n",
       " 672: 363,\n",
       " 53641: 364,\n",
       " 1909: 365,\n",
       " 8699: 366,\n",
       " 1769: 367,\n",
       " 1656: 368,\n",
       " 18694: 369,\n",
       " 18178: 370,\n",
       " 425: 371,\n",
       " 7885: 372,\n",
       " 14336: 373,\n",
       " 942: 374,\n",
       " 30351: 375,\n",
       " 140: 376,\n",
       " 28181: 377,\n",
       " 1430: 378,\n",
       " 1103: 379,\n",
       " 1112: 380,\n",
       " 792: 381,\n",
       " 2952: 382,\n",
       " 3808: 383,\n",
       " 20260: 384,\n",
       " 2053: 385,\n",
       " 968: 386,\n",
       " 6070: 387,\n",
       " 127: 388,\n",
       " 52032: 389,\n",
       " 7877: 390,\n",
       " 843: 391,\n",
       " 4819: 392,\n",
       " 4820: 393,\n",
       " 54614: 394,\n",
       " 564: 395,\n",
       " 344: 396,\n",
       " 719: 397,\n",
       " 6141: 398,\n",
       " 25751: 399,\n",
       " 11925: 400,\n",
       " 816: 401,\n",
       " 4723: 402,\n",
       " 2222: 403,\n",
       " 25426: 404,\n",
       " 246: 405,\n",
       " 2808: 406,\n",
       " 5780: 407,\n",
       " 8538: 408,\n",
       " 3418: 409,\n",
       " 19070: 410,\n",
       " 66293: 411,\n",
       " 52: 412,\n",
       " 24973: 413,\n",
       " 23383: 414,\n",
       " 17981: 415,\n",
       " 2304: 416,\n",
       " 5604: 417,\n",
       " 12097: 418,\n",
       " 8580: 419,\n",
       " 4861: 420,\n",
       " 2613: 421,\n",
       " 1097: 422,\n",
       " 12720: 423,\n",
       " 25631: 424,\n",
       " 4267: 425,\n",
       " 3194: 426,\n",
       " 7477: 427,\n",
       " 980: 428,\n",
       " 2219: 429,\n",
       " 10100: 430,\n",
       " 14077: 431,\n",
       " 2754: 432,\n",
       " 131: 433,\n",
       " 5329: 434,\n",
       " 5412: 435,\n",
       " 6812: 436,\n",
       " 12974: 437,\n",
       " 8398: 438,\n",
       " 9038: 439,\n",
       " 5862: 440,\n",
       " 72459: 441,\n",
       " 3324: 442,\n",
       " 2151: 443,\n",
       " 15164: 444,\n",
       " 6487: 445,\n",
       " 70940: 446,\n",
       " 83802: 447,\n",
       " 1612: 448,\n",
       " 67468: 449,\n",
       " 9189: 450,\n",
       " 279: 451,\n",
       " 29550: 452,\n",
       " 1317: 453,\n",
       " 20: 454,\n",
       " 14: 455,\n",
       " 19488: 456,\n",
       " 191: 457,\n",
       " 328: 458,\n",
       " 4518: 459,\n",
       " 6585: 460,\n",
       " 24714: 461,\n",
       " 1424: 462,\n",
       " 1520: 463,\n",
       " 352: 464,\n",
       " 27069: 465,\n",
       " 1005: 466,\n",
       " 29387: 467,\n",
       " 19185: 468,\n",
       " 5033: 469,\n",
       " 2308: 470,\n",
       " 27217: 471,\n",
       " 1280: 472,\n",
       " 10498: 473,\n",
       " 11739: 474,\n",
       " 3579: 475,\n",
       " 32693: 476,\n",
       " 74330: 477,\n",
       " 207: 478,\n",
       " 3814: 479,\n",
       " 6420: 480,\n",
       " 1663: 481,\n",
       " 5563: 482,\n",
       " 1050: 483,\n",
       " 71: 484,\n",
       " 12087: 485,\n",
       " 78210: 486,\n",
       " 2619: 487,\n",
       " 18199: 488,\n",
       " 2441: 489,\n",
       " 71443: 490,\n",
       " 136: 491,\n",
       " 8208: 492,\n",
       " 676: 493,\n",
       " 22287: 494,\n",
       " 53562: 495,\n",
       " 58038: 496,\n",
       " 22777: 497,\n",
       " 18490: 498,\n",
       " 12635: 499,\n",
       " 7951: 500,\n",
       " 231: 501,\n",
       " 1935: 502,\n",
       " 1422: 503,\n",
       " 489: 504,\n",
       " 4285: 505,\n",
       " 2881: 506,\n",
       " 24402: 507,\n",
       " 5345: 508,\n",
       " 11837: 509,\n",
       " 218: 510,\n",
       " 468: 511,\n",
       " 622: 512,\n",
       " 26849: 513,\n",
       " 18702: 514,\n",
       " 4286: 515,\n",
       " 20773: 516,\n",
       " 8049: 517,\n",
       " 17471: 518,\n",
       " 333: 519,\n",
       " 3528: 520,\n",
       " 1790: 521,\n",
       " 205: 522,\n",
       " 3307: 523,\n",
       " 27907: 524,\n",
       " 11507: 525,\n",
       " 13543: 526,\n",
       " 11052: 527,\n",
       " 631: 528,\n",
       " 57034: 529,\n",
       " 5272: 530,\n",
       " 26960: 531,\n",
       " 3756: 532,\n",
       " 32805: 533,\n",
       " 711: 534,\n",
       " 5143: 535,\n",
       " 23272: 536,\n",
       " 50: 537,\n",
       " 22535: 538,\n",
       " 865: 539,\n",
       " 8945: 540,\n",
       " 343: 541,\n",
       " 3108: 542,\n",
       " 26777: 543,\n",
       " 8389: 544,\n",
       " 18130: 545,\n",
       " 237: 546,\n",
       " 10914: 547,\n",
       " 10748: 548,\n",
       " 37012: 549,\n",
       " 43292: 550,\n",
       " 10138: 551,\n",
       " 16085: 552,\n",
       " 2712: 553,\n",
       " 41164: 554,\n",
       " 18473: 555,\n",
       " 4889: 556,\n",
       " 1134: 557,\n",
       " 5825: 558,\n",
       " 316: 559,\n",
       " 2967: 560,\n",
       " 5408: 561,\n",
       " 300: 562,\n",
       " 2093: 563,\n",
       " 20192: 564,\n",
       " 3992: 565,\n",
       " 27670: 566,\n",
       " 4: 567,\n",
       " 14504: 568,\n",
       " 18351: 569,\n",
       " 11932: 570,\n",
       " 8298: 571,\n",
       " 31549: 572,\n",
       " 2332: 573,\n",
       " 1830: 574,\n",
       " 4288: 575,\n",
       " 872: 576,\n",
       " 404: 577,\n",
       " 10628: 578,\n",
       " 37607: 579,\n",
       " 58276: 580,\n",
       " 1155: 581,\n",
       " 2245: 582,\n",
       " 2090: 583,\n",
       " 49610: 584,\n",
       " 30477: 585,\n",
       " 2477: 586,\n",
       " 4865: 587,\n",
       " 3313: 588,\n",
       " 3904: 589,\n",
       " 4376: 590,\n",
       " 23976: 591,\n",
       " 6629: 592,\n",
       " 684: 593,\n",
       " 4042: 594,\n",
       " 11742: 595,\n",
       " 256: 596,\n",
       " 8995: 597,\n",
       " 82233: 598,\n",
       " 1788: 599,\n",
       " 2626: 600,\n",
       " 4754: 601,\n",
       " 18668: 602,\n",
       " 8223: 603,\n",
       " 2373: 604,\n",
       " 76: 605,\n",
       " 2803: 606,\n",
       " 381: 607,\n",
       " 2347: 608,\n",
       " 1725: 609,\n",
       " 32387: 610,\n",
       " 985: 611,\n",
       " 3649: 612,\n",
       " 8478: 613,\n",
       " 5988: 614,\n",
       " 1367: 615,\n",
       " 6054: 616,\n",
       " 518: 617,\n",
       " 4094: 618,\n",
       " 7777: 619,\n",
       " 20447: 620,\n",
       " 2809: 621,\n",
       " 2457: 622,\n",
       " 2191: 623,\n",
       " 61037: 624,\n",
       " 5083: 625,\n",
       " 41422: 626,\n",
       " 68781: 627,\n",
       " 153: 628,\n",
       " 1481: 629,\n",
       " 414: 630,\n",
       " 5204: 631,\n",
       " 7216: 632,\n",
       " 2467: 633,\n",
       " 9594: 634,\n",
       " 92: 635,\n",
       " 456: 636,\n",
       " 219: 637,\n",
       " 1882: 638,\n",
       " 7421: 639,\n",
       " 30812: 640,\n",
       " 12824: 641,\n",
       " 1930: 642,\n",
       " 13220: 643,\n",
       " 8952: 644,\n",
       " 3515: 645,\n",
       " 26050: 646,\n",
       " 14830: 647,\n",
       " 47035: 648,\n",
       " 1537: 649,\n",
       " 5034: 650,\n",
       " 9006: 651,\n",
       " 3363: 652,\n",
       " 413: 653,\n",
       " 786: 654,\n",
       " 71929: 655,\n",
       " 22742: 656,\n",
       " 251: 657,\n",
       " 14851: 658,\n",
       " 15310: 659,\n",
       " 12822: 660,\n",
       " 38218: 661,\n",
       " 21497: 662,\n",
       " 460: 663,\n",
       " 4048: 664,\n",
       " 2851: 665,\n",
       " 7105: 666,\n",
       " 40682: 667,\n",
       " 12200: 668,\n",
       " 42941: 669,\n",
       " 3470: 670,\n",
       " 56939: 671,\n",
       " 66668: 672,\n",
       " 14713: 673,\n",
       " 681: 674,\n",
       " 2522: 675,\n",
       " 401: 676,\n",
       " 59609: 677,\n",
       " 9272: 678,\n",
       " 33234: 679,\n",
       " 1188: 680,\n",
       " 5939: 681,\n",
       " 8026: 682,\n",
       " 49895: 683,\n",
       " 76275: 684,\n",
       " 4259: 685,\n",
       " 3557: 686,\n",
       " 36084: 687,\n",
       " 2063: 688,\n",
       " 9249: 689,\n",
       " 3602: 690,\n",
       " 84510: 691,\n",
       " 34662: 692,\n",
       " 5699: 693,\n",
       " 4080: 694,\n",
       " 14399: 695,\n",
       " 17877: 696,\n",
       " 38032: 697,\n",
       " 62755: 698,\n",
       " 7469: 699,\n",
       " 158: 700,\n",
       " 36850: 701,\n",
       " 3335: 702,\n",
       " 38386: 703,\n",
       " 36522: 704,\n",
       " 1969: 705,\n",
       " 53519: 706,\n",
       " 3958: 707,\n",
       " 423: 708,\n",
       " 5960: 709,\n",
       " 9467: 710,\n",
       " 16413: 711,\n",
       " 35: 712,\n",
       " 2292: 713,\n",
       " 43891: 714,\n",
       " 5870: 715,\n",
       " 4643: 716,\n",
       " 22587: 717,\n",
       " 521: 718,\n",
       " 37241: 719,\n",
       " 4563: 720,\n",
       " 83243: 721,\n",
       " 6782: 722,\n",
       " 692: 723,\n",
       " 4275: 724,\n",
       " 16564: 725,\n",
       " 34727: 726,\n",
       " 60217: 727,\n",
       " 58525: 728,\n",
       " 53619: 729,\n",
       " 4548: 730,\n",
       " 65831: 731,\n",
       " 5103: 732,\n",
       " 3215: 733,\n",
       " 353: 734,\n",
       " 24661: 735,\n",
       " 20239: 736,\n",
       " 23995: 737,\n",
       " 18381: 738,\n",
       " 14589: 739,\n",
       " 1947: 740,\n",
       " 3361: 741,\n",
       " 15704: 742,\n",
       " 1749: 743,\n",
       " 1036: 744,\n",
       " 62562: 745,\n",
       " 6086: 746,\n",
       " 10279: 747,\n",
       " 3852: 748,\n",
       " 49014: 749,\n",
       " 105: 750,\n",
       " 955: 751,\n",
       " 84090: 752,\n",
       " 292: 753,\n",
       " 4290: 754,\n",
       " 70235: 755,\n",
       " 31727: 756,\n",
       " 90: 757,\n",
       " 8854: 758,\n",
       " 4502: 759,\n",
       " 2562: 760,\n",
       " 339: 761,\n",
       " 38912: 762,\n",
       " 296: 763,\n",
       " 369: 764,\n",
       " 36986: 765,\n",
       " 798: 766,\n",
       " 1899: 767,\n",
       " 46543: 768,\n",
       " 13601: 769,\n",
       " 80527: 770,\n",
       " 1031: 771,\n",
       " 39783: 772,\n",
       " 9509: 773,\n",
       " 263: 774,\n",
       " 15917: 775,\n",
       " 2523: 776,\n",
       " 978: 777,\n",
       " 2685: 778,\n",
       " 288: 779,\n",
       " 4352: 780,\n",
       " 6180: 781,\n",
       " 65066: 782,\n",
       " 79718: 783,\n",
       " 498: 784,\n",
       " 5492: 785,\n",
       " 5917: 786,\n",
       " 4886: 787,\n",
       " 26093: 788,\n",
       " 721: 789,\n",
       " 2218: 790,\n",
       " 8826: 791,\n",
       " 7217: 792,\n",
       " 6720: 793,\n",
       " 2422: 794,\n",
       " 5843: 795,\n",
       " 5130: 796,\n",
       " 9415: 797,\n",
       " 58363: 798,\n",
       " 21951: 799,\n",
       " 3193: 800,\n",
       " 17031: 801,\n",
       " 41903: 802,\n",
       " 668: 803,\n",
       " 10916: 804,\n",
       " 545: 805,\n",
       " 7303: 806,\n",
       " 55578: 807,\n",
       " 19565: 808,\n",
       " 25710: 809,\n",
       " 9269: 810,\n",
       " 50073: 811,\n",
       " 1222: 812,\n",
       " 1326: 813,\n",
       " 4555: 814,\n",
       " 2673: 815,\n",
       " 107: 816,\n",
       " 19136: 817,\n",
       " 102: 818,\n",
       " 19978: 819,\n",
       " 6857: 820,\n",
       " 1567: 821,\n",
       " 2900: 822,\n",
       " 18676: 823,\n",
       " 4137: 824,\n",
       " 2188: 825,\n",
       " 12484: 826,\n",
       " 10455: 827,\n",
       " 9530: 828,\n",
       " 9224: 829,\n",
       " 34086: 830,\n",
       " 16571: 831,\n",
       " 2311: 832,\n",
       " 2320: 833,\n",
       " 30367: 834,\n",
       " 2445: 835,\n",
       " 6424: 836,\n",
       " 2130: 837,\n",
       " 6465: 838,\n",
       " 1283: 839,\n",
       " 10092: 840,\n",
       " 7572: 841,\n",
       " 18355: 842,\n",
       " 4614: 843,\n",
       " 9459: 844,\n",
       " 39926: 845,\n",
       " 249: 846,\n",
       " 4263: 847,\n",
       " 1779: 848,\n",
       " 30128: 849,\n",
       " 1701: 850,\n",
       " 10361: 851,\n",
       " 6760: 852,\n",
       " 59171: 853,\n",
       " 6917: 854,\n",
       " 79: 855,\n",
       " 13287: 856,\n",
       " 3257: 857,\n",
       " 5480: 858,\n",
       " 6062: 859,\n",
       " 28267: 860,\n",
       " 451: 861,\n",
       " 19903: 862,\n",
       " 2828: 863,\n",
       " 17350: 864,\n",
       " 16327: 865,\n",
       " 239: 866,\n",
       " 82: 867,\n",
       " 1986: 868,\n",
       " 1163: 869,\n",
       " 83431: 870,\n",
       " 81436: 871,\n",
       " 4588: 872,\n",
       " 367: 873,\n",
       " 223: 874,\n",
       " 11900: 875,\n",
       " 24099: 876,\n",
       " 912: 877,\n",
       " 10203: 878,\n",
       " 4222: 879,\n",
       " 39: 880,\n",
       " 32608: 881,\n",
       " 3723: 882,\n",
       " 26644: 883,\n",
       " 51722: 884,\n",
       " 51723: 885,\n",
       " 4256: 886,\n",
       " 1095: 887,\n",
       " 29463: 888,\n",
       " 653: 889,\n",
       " 84074: 890,\n",
       " 10642: 891,\n",
       " 31809: 892,\n",
       " 958: 893,\n",
       " 38470: 894,\n",
       " 5337: 895,\n",
       " 2648: 896,\n",
       " 12739: 897,\n",
       " 13469: 898,\n",
       " 272: 899,\n",
       " 17260: 900,\n",
       " 2848: 901,\n",
       " 45401: 902,\n",
       " 1014: 903,\n",
       " 35088: 904,\n",
       " 9268: 905,\n",
       " 2439: 906,\n",
       " 3609: 907,\n",
       " 212: 908,\n",
       " 32223: 909,\n",
       " 472: 910,\n",
       " 5036: 911,\n",
       " 9232: 912,\n",
       " 15749: 913,\n",
       " 4050: 914,\n",
       " 2830: 915,\n",
       " 8823: 916,\n",
       " 28350: 917,\n",
       " 14464: 918,\n",
       " 14977: 919,\n",
       " 8102: 920,\n",
       " 8965: 921,\n",
       " 47928: 922,\n",
       " 104: 923,\n",
       " 7240: 924,\n",
       " 30544: 925,\n",
       " 3251: 926,\n",
       " 694: 927,\n",
       " 25409: 928,\n",
       " 14675: 929,\n",
       " 2233: 930,\n",
       " 2868: 931,\n",
       " 20577: 932,\n",
       " 358: 933,\n",
       " 3831: 934,\n",
       " 506: 935,\n",
       " 12216: 936,\n",
       " 3017: 937,\n",
       " 6778: 938,\n",
       " 1307: 939,\n",
       " 892: 940,\n",
       " 32469: 941,\n",
       " 32518: 942,\n",
       " 5998: 943,\n",
       " 8970: 944,\n",
       " 10991: 945,\n",
       " 70730: 946,\n",
       " 86: 947,\n",
       " 2633: 948,\n",
       " 21505: 949,\n",
       " 937: 950,\n",
       " 81906: 951,\n",
       " 27150: 952,\n",
       " 1762: 953,\n",
       " 6022: 954,\n",
       " 32706: 955,\n",
       " 1043: 956,\n",
       " 7366: 957,\n",
       " 1315: 958,\n",
       " 6203: 959,\n",
       " 58871: 960,\n",
       " 3401: 961,\n",
       " 42248: 962,\n",
       " 12250: 963,\n",
       " 36548: 964,\n",
       " 57288: 965,\n",
       " 214: 966,\n",
       " 20460: 967,\n",
       " 4439: 968,\n",
       " 2443: 969,\n",
       " 2369: 970,\n",
       " 12744: 971,\n",
       " 5527: 972,\n",
       " 43133: 973,\n",
       " 5185: 974,\n",
       " 29163: 975,\n",
       " 4009: 976,\n",
       " 75779: 977,\n",
       " 6858: 978,\n",
       " 379: 979,\n",
       " 13173: 980,\n",
       " 33008: 981,\n",
       " 1418: 982,\n",
       " 1887: 983,\n",
       " 4052: 984,\n",
       " 9501: 985,\n",
       " 1460: 986,\n",
       " 11729: 987,\n",
       " 1736: 988,\n",
       " 12331: 989,\n",
       " 22276: 990,\n",
       " 9197: 991,\n",
       " 4023: 992,\n",
       " 36925: 993,\n",
       " 28105: 994,\n",
       " 1076: 995,\n",
       " 6970: 996,\n",
       " 6539: 997,\n",
       " 3585: 998,\n",
       " 7095: 999,\n",
       " ...}"
      ]
     },
     "execution_count": 63,
     "metadata": {},
     "output_type": "execute_result"
    }
   ],
   "source": [
    "patch_emb[1].index"
   ]
  },
  {
   "cell_type": "code",
   "execution_count": null,
   "id": "99fde5e3-f417-49d8-b884-62d2a8d6f83b",
   "metadata": {},
   "outputs": [],
   "source": [
    "# ADDED \n",
    "## HOW TO GET THE TOTAL EMBEDDING WITH NEW VERSION OF THE ALGORITHM\n",
    "\n",
    "import manopt_optimization as mopt\n",
    "intersection_nodes=mopt.double_intersections_nodes(patch_emb)\n",
    "\n",
    "dim=64\n",
    "res, emb =mopt.optimization(patch_emb, intersection_nodes, dim) #res contain the result of the optimization, i.e., scales, rotations and traslations,\n",
    "                                                                # emb is the embedding of every nodes using the scales, rotations and translations \n",
    "                                                                #found with  the optimization"
   ]
  },
  {
   "cell_type": "code",
   "execution_count": null,
   "id": "dcd4bde3-651c-4dd5-9a8f-1dcc92e20ecb",
   "metadata": {},
   "outputs": [],
   "source": [
    "#ADDED \n",
    "#TO GET THE EMBEDDING USING STANDARD L2G\n",
    "pr=l2g.AlignmentProblem(patch_emb)\n",
    "old_emb=pr.get_aligned_embedding()"
   ]
  },
  {
   "cell_type": "code",
   "execution_count": null,
   "id": "0d670d22-c6cb-42b0-9f02-b188f29e5302",
   "metadata": {},
   "outputs": [],
   "source": [
    "def reduce_data(data, date, most_common):\n",
    "    countries = dl.get_nodes(ts=date)['country'].to_list()\n",
    "    indices = [i for i in range(len(countries)) if countries[i] in most_common]\n",
    "    points = data[indices, :]\n",
    "    labels = [most_common.index(countries[i]) for i in indices]\n",
    "    return points, labels"
   ]
  },
  {
   "cell_type": "code",
   "execution_count": null,
   "id": "cee98c96-b390-43d3-88ae-1a1b5f0bc10c",
   "metadata": {},
   "outputs": [],
   "source": [
    "def create_plot(umap_embedding, labels, p):\n",
    "    fig, ax = plt.subplots(1, 1, figsize=(12,12))\n",
    "    ax.scatter(\n",
    "        umap_embedding[p][:, 0],\n",
    "        umap_embedding[p][:, 1],\n",
    "        c=[sns.color_palette()[x] for x in labels[p]],\n",
    "        lw=1\n",
    "    )\n",
    "    return fig"
   ]
  },
  {
   "cell_type": "code",
   "execution_count": null,
   "id": "1999cb59-72ad-4195-90fb-81de8b8bcc16",
   "metadata": {},
   "outputs": [],
   "source": [
    "reducer = umap.UMAP(n_neighbors=5, min_dist=0.0, metric='euclidean')"
   ]
  },
  {
   "cell_type": "code",
   "execution_count": null,
   "id": "600815b4-92b2-4bb3-8e59-73e4201478a0",
   "metadata": {},
   "outputs": [],
   "source": [
    "embeddings = []\n",
    "for i,d in enumerate(dates):\n",
    "    patch = tg_graphs[d]\n",
    "    embeddings.append(models[i].encode(patch).detach().numpy())"
   ]
  },
  {
   "cell_type": "code",
   "execution_count": null,
   "id": "c861a582-44cf-407c-9984-6c2b6d5b9b71",
   "metadata": {},
   "outputs": [],
   "source": [
    "def create_umap(points, reducer):\n",
    "    return reducer.fit(points)"
   ]
  },
  {
   "cell_type": "code",
   "execution_count": null,
   "id": "d37a1a99-0128-4da5-8d25-81705248df4f",
   "metadata": {},
   "outputs": [],
   "source": [
    "reducer = umap.UMAP(n_neighbors=5, min_dist=0.0, metric='euclidean')\n",
    "reducer.fit_transform(emb)"
   ]
  },
  {
   "cell_type": "code",
   "execution_count": null,
   "id": "e7fc1254-925a-42eb-a9ae-cf8cf17b80fe",
   "metadata": {},
   "outputs": [],
   "source": [
    "points = []\n",
    "labels = []\n",
    "umaps = []\n",
    "for i,d in enumerate(dates):\n",
    "    p, l = reduce_data(embeddings[i], d, most_common)\n",
    "    points.append(p)\n",
    "    labels.append(l)\n",
    "    umaps.append(create_umap(p, reducer))"
   ]
  },
  {
   "cell_type": "code",
   "execution_count": null,
   "id": "3b1d8ce1-4bce-4089-ad7a-0a6974716bd6",
   "metadata": {},
   "outputs": [],
   "source": [
    "fig, ax = plt.subplots(1, 1, figsize=(12,12))\n",
    "ax.scatter(\n",
    "    umaps[1][:, 0],\n",
    "    umaps[1][:, 1],\n",
    "    c=[sns.color_palette()[x] for x in labels[1]],\n",
    "    lw=1\n",
    ")\n",
    "plt.gca().set_aspect('equal', 'datalim')\n",
    "plt.title('UMAP Embedding', fontsize=12)\n",
    "plt.show()"
   ]
  },
  {
   "cell_type": "code",
   "execution_count": null,
   "id": "71c83195-a565-44f0-a1d1-f1ca34a1f4aa",
   "metadata": {},
   "outputs": [],
   "source": [
    "fig, ax = plt.subplots(4, 1, figsize=(8,20))\n",
    "for i in range(4):\n",
    "    ax[i].scatter(\n",
    "        umaps[i][:, 0],\n",
    "        umaps[i][:, 1],\n",
    "        c=[sns.color_palette()[x] for x in labels[i]],\n",
    "        lw=1\n",
    "    )\n",
    "plt.gca().set_aspect('equal', 'datalim')\n",
    "plt.title('UMAP Embedding', fontsize=12)\n",
    "plt.show()"
   ]
  },
  {
   "cell_type": "code",
   "execution_count": null,
   "id": "b3fb79cc-708a-4766-abe4-c85ce5a33103",
   "metadata": {},
   "outputs": [],
   "source": []
  }
 ],
 "metadata": {
  "kernelspec": {
   "display_name": "Python 3 (ipykernel)",
   "language": "python",
   "name": "python3"
  },
  "language_info": {
   "codemirror_mode": {
    "name": "ipython",
    "version": 3
   },
   "file_extension": ".py",
   "mimetype": "text/x-python",
   "name": "python",
   "nbconvert_exporter": "python",
   "pygments_lexer": "ipython3",
   "version": "3.12.4"
  }
 },
 "nbformat": 4,
 "nbformat_minor": 5
}
