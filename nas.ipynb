{
 "cells": [
  {
   "cell_type": "code",
   "execution_count": 1,
   "id": "c0f84710-fa07-4ae7-a37f-f933992a5183",
   "metadata": {},
   "outputs": [],
   "source": [
    "%load_ext autoreload\n",
    "%autoreload 2"
   ]
  },
  {
   "cell_type": "code",
   "execution_count": 2,
   "id": "fea5d599-883a-41b7-9084-a2c54697cd6d",
   "metadata": {},
   "outputs": [],
   "source": [
    "import numpy as np\n",
    "import numpy.random as rnd\n",
    "import numpy.linalg as la\n",
    "import polars as pl\n",
    "import pandas as pd\n",
    "import datetime as dt\n",
    "import os\n",
    "import matplotlib.pyplot as plt\n",
    "from tqdm.notebook import tqdm\n",
    "import networkx as nx\n",
    "import raphtory as rp\n",
    "import community\n",
    "import torch\n",
    "import torch_geometric as tg\n",
    "from torch_geometric.data import Data\n",
    "from torch_geometric.utils.convert import from_networkx\n",
    "from torch_geometric.transforms import LargestConnectedComponents\n",
    "from torch_geometric.utils import to_networkx\n",
    "from torch_geometric.nn import Node2Vec"
   ]
  },
  {
   "cell_type": "code",
   "execution_count": 3,
   "id": "41105a8c-205f-4c34-a8d9-142290acf71a",
   "metadata": {},
   "outputs": [],
   "source": [
    "from datasets import DataLoader"
   ]
  },
  {
   "cell_type": "markdown",
   "id": "148e6778-b3bc-437a-b023-db0d538c05ff",
   "metadata": {},
   "source": [
    "# <font color=\"grey\"> $\\quad$ New Autonoous Systems dataset </font>\n",
    "\n",
    "$\\newcommand{\\vct}[1]{\\mathbf{#1}}$\n",
    "$\\newcommand{\\mtx}[1]{\\mathbf{#1}}$\n",
    "$\\newcommand{\\e}{\\varepsilon}$\n",
    "$\\newcommand{\\norm}[1]{\\|#1\\|}$\n",
    "$\\newcommand{\\minimize}{\\mathrm{minimize}\\quad}$\n",
    "$\\newcommand{\\maximize}{\\mathrm{maximize}\\quad}$\n",
    "$\\newcommand{\\subjto}{\\quad\\text{subject to}\\quad}$\n",
    "$\\newcommand{\\R}{\\mathbb{R}}$\n",
    "$\\newcommand{\\C}{\\mathbb{C}}$\n",
    "$\\newcommand{\\N}{\\mathbb{N}}$\n",
    "$\\newcommand{\\Z}{\\mathbb{Z}}$\n",
    "$\\newcommand{Prob}{\\mathbb{P}}$\n",
    "$\\newcommand{Expect}{\\mathbb{E}}$\n",
    "$\\newcommand{Cov}{\\mathrm{Cov}}$\n",
    "$\\newcommand{Var}{\\mathrm{Var}}$\n",
    "$\\newcommand{\\trans}{T}$\n",
    "$\\newcommand{\\ip}[2]{\\langle {#1}, {#2} \\rangle}$\n",
    "$\\newcommand{\\zerovct}{\\vct{0}}$\n",
    "$\\newcommand{\\diff}[1]{\\mathrm{d}{#1}}$\n",
    "$\\newcommand{\\conv}{\\operatorname{conv}}$\n",
    "$\\newcommand{\\inter}{{\\operatorname{int}}}$"
   ]
  },
  {
   "cell_type": "markdown",
   "id": "0e4208fd-da21-4181-ae65-1fa8c152ea2c",
   "metadata": {},
   "source": [
    "### <font color=\"grey\">  Table of Contents</font>\n",
    "\n",
    "1. #### <a href='#chapter1'>Data</a>\n",
    "2. #### <a href='#chapter2'>Embedding</a>\n",
    "3. #### <a href='#chapter3'>Visualisation</a>"
   ]
  },
  {
   "cell_type": "markdown",
   "id": "6d903eb7-22ad-4900-8720-f79d3eb44790",
   "metadata": {},
   "source": [
    "###  <a id='chapter1'> <font color=\"grey\">1. Data </font></a>"
   ]
  },
  {
   "cell_type": "markdown",
   "id": "7d25865e-21a9-4e34-bf80-125bb3d22ca5",
   "metadata": {},
   "source": [
    "The data can be accessed via the dataloader. It is saved in the datasets/data/nas directory in two parquet files. "
   ]
  },
  {
   "cell_type": "code",
   "execution_count": 4,
   "id": "38fcc940-390a-4039-aa4b-c136185c16d2",
   "metadata": {},
   "outputs": [],
   "source": [
    "dl = DataLoader(source='nAS')"
   ]
  },
  {
   "cell_type": "code",
   "execution_count": 5,
   "id": "c491df93-835c-46e8-8d93-f8bdc69bd9d8",
   "metadata": {},
   "outputs": [
    {
     "data": {
      "text/html": [
       "<div><style>\n",
       ".dataframe > thead > tr,\n",
       ".dataframe > tbody > tr {\n",
       "  text-align: right;\n",
       "  white-space: pre-wrap;\n",
       "}\n",
       "</style>\n",
       "<small>shape: (5, 4)</small><table border=\"1\" class=\"dataframe\"><thead><tr><th>timestamp</th><th>source</th><th>dest</th><th>weight</th></tr><tr><td>datetime[μs]</td><td>i64</td><td>i64</td><td>i64</td></tr></thead><tbody><tr><td>2024-09-29 00:00:00</td><td>8151</td><td>1840</td><td>1</td></tr><tr><td>2024-09-29 00:00:00</td><td>8151</td><td>10420</td><td>1</td></tr><tr><td>2024-09-29 00:00:00</td><td>8151</td><td>136907</td><td>1</td></tr><tr><td>2024-09-29 00:00:00</td><td>8151</td><td>7173</td><td>1</td></tr><tr><td>2024-09-29 00:00:00</td><td>8151</td><td>28391</td><td>1</td></tr></tbody></table></div>"
      ],
      "text/plain": [
       "shape: (5, 4)\n",
       "┌─────────────────────┬────────┬────────┬────────┐\n",
       "│ timestamp           ┆ source ┆ dest   ┆ weight │\n",
       "│ ---                 ┆ ---    ┆ ---    ┆ ---    │\n",
       "│ datetime[μs]        ┆ i64    ┆ i64    ┆ i64    │\n",
       "╞═════════════════════╪════════╪════════╪════════╡\n",
       "│ 2024-09-29 00:00:00 ┆ 8151   ┆ 1840   ┆ 1      │\n",
       "│ 2024-09-29 00:00:00 ┆ 8151   ┆ 10420  ┆ 1      │\n",
       "│ 2024-09-29 00:00:00 ┆ 8151   ┆ 136907 ┆ 1      │\n",
       "│ 2024-09-29 00:00:00 ┆ 8151   ┆ 7173   ┆ 1      │\n",
       "│ 2024-09-29 00:00:00 ┆ 8151   ┆ 28391  ┆ 1      │\n",
       "└─────────────────────┴────────┴────────┴────────┘"
      ]
     },
     "execution_count": 5,
     "metadata": {},
     "output_type": "execute_result"
    }
   ],
   "source": [
    "# Get the edges\n",
    "edge_df = dl.get_edges()\n",
    "edge_df.head()"
   ]
  },
  {
   "cell_type": "markdown",
   "id": "7dcfd3ee-0e5d-4a5e-aa09-30e0dc958132",
   "metadata": {},
   "source": [
    "The weight columns has no relevance, it is always 1. "
   ]
  },
  {
   "cell_type": "code",
   "execution_count": 6,
   "id": "f9273655-0c7c-4f2f-b40a-574d38773307",
   "metadata": {},
   "outputs": [
    {
     "data": {
      "text/html": [
       "<div><style>\n",
       ".dataframe > thead > tr,\n",
       ".dataframe > tbody > tr {\n",
       "  text-align: right;\n",
       "  white-space: pre-wrap;\n",
       "}\n",
       "</style>\n",
       "<small>shape: (5, 3)</small><table border=\"1\" class=\"dataframe\"><thead><tr><th>timestamp</th><th>nodes</th><th>country_code</th></tr><tr><td>datetime[μs]</td><td>i64</td><td>i64</td></tr></thead><tbody><tr><td>2024-09-29 00:00:00</td><td>8151</td><td>150</td></tr><tr><td>2024-09-29 00:00:00</td><td>1840</td><td>150</td></tr><tr><td>2024-09-29 00:00:00</td><td>25220</td><td>52</td></tr><tr><td>2024-09-29 00:00:00</td><td>198570</td><td>52</td></tr><tr><td>2024-09-29 00:00:00</td><td>4657</td><td>191</td></tr></tbody></table></div>"
      ],
      "text/plain": [
       "shape: (5, 3)\n",
       "┌─────────────────────┬────────┬──────────────┐\n",
       "│ timestamp           ┆ nodes  ┆ country_code │\n",
       "│ ---                 ┆ ---    ┆ ---          │\n",
       "│ datetime[μs]        ┆ i64    ┆ i64          │\n",
       "╞═════════════════════╪════════╪══════════════╡\n",
       "│ 2024-09-29 00:00:00 ┆ 8151   ┆ 150          │\n",
       "│ 2024-09-29 00:00:00 ┆ 1840   ┆ 150          │\n",
       "│ 2024-09-29 00:00:00 ┆ 25220  ┆ 52           │\n",
       "│ 2024-09-29 00:00:00 ┆ 198570 ┆ 52           │\n",
       "│ 2024-09-29 00:00:00 ┆ 4657   ┆ 191          │\n",
       "└─────────────────────┴────────┴──────────────┘"
      ]
     },
     "execution_count": 6,
     "metadata": {},
     "output_type": "execute_result"
    }
   ],
   "source": [
    "# Get the nodes\n",
    "node_df = dl.get_nodes()\n",
    "node_df.head()"
   ]
  },
  {
   "cell_type": "markdown",
   "id": "0e5318d4-1d82-446d-bbf4-394fa8bc7bca",
   "metadata": {},
   "source": [
    "The nodes have one feature: the country. This can be used to label and identify different subgraphs. In order to identify the features with a country, there is the country_code file."
   ]
  },
  {
   "cell_type": "code",
   "execution_count": 7,
   "id": "a0b07487-b077-4745-9e3d-a7f4d3dbc580",
   "metadata": {},
   "outputs": [
    {
     "data": {
      "text/html": [
       "<div><style>\n",
       ".dataframe > thead > tr,\n",
       ".dataframe > tbody > tr {\n",
       "  text-align: right;\n",
       "  white-space: pre-wrap;\n",
       "}\n",
       "</style>\n",
       "<small>shape: (241, 2)</small><table border=\"1\" class=\"dataframe\"><thead><tr><th>index</th><th>country</th></tr><tr><td>i64</td><td>str</td></tr></thead><tbody><tr><td>0</td><td>&quot;AD&quot;</td></tr><tr><td>1</td><td>&quot;AE&quot;</td></tr><tr><td>2</td><td>&quot;AF&quot;</td></tr><tr><td>3</td><td>&quot;AG&quot;</td></tr><tr><td>4</td><td>&quot;AI&quot;</td></tr><tr><td>&hellip;</td><td>&hellip;</td></tr><tr><td>236</td><td>&quot;YT&quot;</td></tr><tr><td>237</td><td>&quot;ZA&quot;</td></tr><tr><td>238</td><td>&quot;ZM&quot;</td></tr><tr><td>239</td><td>&quot;ZW&quot;</td></tr><tr><td>240</td><td>&quot;ZZ&quot;</td></tr></tbody></table></div>"
      ],
      "text/plain": [
       "shape: (241, 2)\n",
       "┌───────┬─────────┐\n",
       "│ index ┆ country │\n",
       "│ ---   ┆ ---     │\n",
       "│ i64   ┆ str     │\n",
       "╞═══════╪═════════╡\n",
       "│ 0     ┆ AD      │\n",
       "│ 1     ┆ AE      │\n",
       "│ 2     ┆ AF      │\n",
       "│ 3     ┆ AG      │\n",
       "│ 4     ┆ AI      │\n",
       "│ …     ┆ …       │\n",
       "│ 236   ┆ YT      │\n",
       "│ 237   ┆ ZA      │\n",
       "│ 238   ┆ ZM      │\n",
       "│ 239   ┆ ZW      │\n",
       "│ 240   ┆ ZZ      │\n",
       "└───────┴─────────┘"
      ]
     },
     "execution_count": 7,
     "metadata": {},
     "output_type": "execute_result"
    }
   ],
   "source": [
    "country_codes = pl.read_parquet('./datasets/data/nas/country_codes.parquet')\n",
    "country_codes"
   ]
  },
  {
   "cell_type": "code",
   "execution_count": 8,
   "id": "91a2cb7e-16cc-4677-ab4b-1950b1f7feea",
   "metadata": {},
   "outputs": [
    {
     "data": {
      "text/plain": [
       "datetime.datetime(2024, 9, 29, 0, 0)"
      ]
     },
     "execution_count": 8,
     "metadata": {},
     "output_type": "execute_result"
    }
   ],
   "source": [
    "# The timestamp column consists of datetime objects\n",
    "date = node_df['timestamp'][0]\n",
    "date"
   ]
  },
  {
   "cell_type": "code",
   "execution_count": 9,
   "id": "637fd1ef-42c1-47e8-ba1e-3c40655f6c70",
   "metadata": {},
   "outputs": [
    {
     "data": {
      "text/plain": [
       "[datetime.datetime(2024, 9, 29, 0, 0),\n",
       " datetime.datetime(2024, 9, 30, 0, 0),\n",
       " datetime.datetime(2024, 10, 1, 0, 0),\n",
       " datetime.datetime(2024, 10, 2, 0, 0),\n",
       " datetime.datetime(2024, 10, 3, 0, 0),\n",
       " datetime.datetime(2024, 10, 4, 0, 0),\n",
       " datetime.datetime(2024, 10, 5, 0, 0),\n",
       " datetime.datetime(2024, 10, 6, 0, 0),\n",
       " datetime.datetime(2024, 10, 7, 0, 0),\n",
       " datetime.datetime(2024, 10, 8, 0, 0),\n",
       " datetime.datetime(2024, 10, 9, 0, 0),\n",
       " datetime.datetime(2024, 10, 10, 0, 0),\n",
       " datetime.datetime(2024, 10, 11, 0, 0),\n",
       " datetime.datetime(2024, 10, 12, 0, 0),\n",
       " datetime.datetime(2024, 10, 13, 0, 0)]"
      ]
     },
     "execution_count": 9,
     "metadata": {},
     "output_type": "execute_result"
    }
   ],
   "source": [
    "dates = dl.get_dates()\n",
    "dates"
   ]
  },
  {
   "cell_type": "code",
   "execution_count": 10,
   "id": "0f121693-996a-4485-a53d-2e74989902b8",
   "metadata": {},
   "outputs": [
    {
     "name": "stderr",
     "output_type": "stream",
     "text": [
      "100%|███████████████████████████████████████████| 15/15 [00:02<00:00,  5.72it/s]\n"
     ]
    },
    {
     "data": {
      "text/plain": [
       "[(51185, 8913),\n",
       " (51185, 262605),\n",
       " (51185, 266989),\n",
       " (51185, 28624),\n",
       " (51185, 43350),\n",
       " (51185, 203478),\n",
       " (51185, 268700),\n",
       " (51185, 272539),\n",
       " (51185, 202146),\n",
       " (51185, 273573)]"
      ]
     },
     "execution_count": 10,
     "metadata": {},
     "output_type": "execute_result"
    }
   ],
   "source": [
    "# The edgelist is a list of edges for each date\n",
    "edge_list = dl.get_edge_list()\n",
    "edge_list[dates[1]][:10]"
   ]
  },
  {
   "cell_type": "code",
   "execution_count": 11,
   "id": "0e755874-7d51-4a92-9988-d93e52fb8514",
   "metadata": {},
   "outputs": [
    {
     "name": "stderr",
     "output_type": "stream",
     "text": [
      "100%|███████████████████████████████████████████| 15/15 [00:08<00:00,  1.73it/s]\n"
     ]
    }
   ],
   "source": [
    "# Data is available in Raphtory and NetworkX formats. I haven't implemented node features yet, so we just get the graph\n",
    "nxg = dl.get_networkx()"
   ]
  },
  {
   "cell_type": "code",
   "execution_count": 14,
   "id": "5452d1db-b5d6-4dde-96ac-ca29d4d4406b",
   "metadata": {},
   "outputs": [
    {
     "name": "stderr",
     "output_type": "stream",
     "text": [
      "100%|███████████████████████████████████████████| 15/15 [00:04<00:00,  3.72it/s]\n"
     ]
    }
   ],
   "source": [
    "# Finally, we can also get a graph in the torch-geometric format, which is useful for graph neural networks\n",
    "tg = dl.get_tgeometric()"
   ]
  },
  {
   "cell_type": "markdown",
   "id": "62cf193b-44ed-4659-b101-dd20151e09b7",
   "metadata": {},
   "source": [
    "There may be a bug in the "
   ]
  },
  {
   "cell_type": "code",
   "execution_count": null,
   "id": "9ff69a85-ad7c-4184-bea5-821a20d64d48",
   "metadata": {},
   "outputs": [],
   "source": [
    "tg = tg[dates[0]] # Take graph from first day"
   ]
  },
  {
   "cell_type": "markdown",
   "id": "1d7edfd6-4b7b-422c-9458-b579869ef1fd",
   "metadata": {},
   "source": [
    "A description of how pytorch-geometric deals with its graph data structure can be found [here](https://pytorch-geometric.readthedocs.io/en/latest/get_started/introduction.html)."
   ]
  },
  {
   "cell_type": "code",
   "execution_count": null,
   "id": "4b5f81e4-8f3d-40f2-ba1e-c97dc1587a8c",
   "metadata": {},
   "outputs": [],
   "source": [
    "# Show the edges\n",
    "tg.edge_index"
   ]
  },
  {
   "cell_type": "code",
   "execution_count": null,
   "id": "07a3e793-a8e3-4d47-9bff-8850d17b5868",
   "metadata": {},
   "outputs": [],
   "source": [
    "# Show nodes\n",
    "tg.nodes"
   ]
  },
  {
   "cell_type": "code",
   "execution_count": null,
   "id": "3c8826f6-a6e1-442c-83b2-accc6fccebdc",
   "metadata": {},
   "outputs": [],
   "source": [
    "# Show node features (see the country dictionary above for the meaning of these codes)\n",
    "tg.x"
   ]
  },
  {
   "cell_type": "markdown",
   "id": "762d7280-9de2-4f2d-8e5d-daf738cf928f",
   "metadata": {},
   "source": [
    "###  <a id='chapter2'> <font color=\"grey\">2. Embedding </font></a>"
   ]
  },
  {
   "cell_type": "code",
   "execution_count": null,
   "id": "1e2060dc-6804-49eb-aa5b-0a74b568d3f8",
   "metadata": {},
   "outputs": [],
   "source": [
    "# Use VGAE here"
   ]
  },
  {
   "cell_type": "markdown",
   "id": "7ad01511-5965-4676-8b56-dd304d2ec538",
   "metadata": {},
   "source": [
    "###  <a id='chapter3'> <font color=\"grey\">3. Visualisation </font></a>"
   ]
  },
  {
   "cell_type": "code",
   "execution_count": null,
   "id": "24c57c17-115a-4aee-8d9f-cd69d89901e0",
   "metadata": {},
   "outputs": [],
   "source": [
    "# Use UMAP to visualise the graph embeddings for different days"
   ]
  }
 ],
 "metadata": {
  "kernelspec": {
   "display_name": "Python 3 (ipykernel)",
   "language": "python",
   "name": "python3"
  },
  "language_info": {
   "codemirror_mode": {
    "name": "ipython",
    "version": 3
   },
   "file_extension": ".py",
   "mimetype": "text/x-python",
   "name": "python",
   "nbconvert_exporter": "python",
   "pygments_lexer": "ipython3",
   "version": "3.12.4"
  }
 },
 "nbformat": 4,
 "nbformat_minor": 5
}
