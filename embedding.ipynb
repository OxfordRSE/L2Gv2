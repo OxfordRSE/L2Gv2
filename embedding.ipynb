{
 "cells": [
  {
   "cell_type": "code",
   "execution_count": 1,
   "id": "6e191dd2",
   "metadata": {},
   "outputs": [],
   "source": [
    "%load_ext autoreload\n",
    "%autoreload 2"
   ]
  },
  {
   "cell_type": "code",
   "execution_count": 2,
   "id": "557a4a0b",
   "metadata": {},
   "outputs": [],
   "source": [
    "import numpy as np\n",
    "from tqdm import tqdm\n",
    "import matplotlib.pyplot as plt\n",
    "import seaborn as sns\n",
    "import torch\n",
    "import torch_geometric as tg\n",
    "from torch_geometric.data import Data\n",
    "from torch_geometric.utils import subgraph\n",
    "from torch_geometric.nn import GAE, VGAE, GCNConv\n",
    "from torch_geometric.utils.convert import from_networkx\n",
    "import networkx as nx"
   ]
  },
  {
   "cell_type": "code",
   "execution_count": 3,
   "id": "7d41d34d",
   "metadata": {},
   "outputs": [],
   "source": [
    "import local2global_embedding.embedding.gae as gae\n",
    "from local2global_embedding.network import TGraph"
   ]
  },
  {
   "cell_type": "code",
   "execution_count": 4,
   "id": "269ddb3e",
   "metadata": {},
   "outputs": [],
   "source": [
    "from dataloader import DataLoader\n",
    "from models import speye, VGAEconv, GAEconv, VGAE_loss, GAE_loss, train"
   ]
  },
  {
   "cell_type": "code",
   "execution_count": 5,
   "id": "a3bcbe54",
   "metadata": {},
   "outputs": [
    {
     "name": "stdout",
     "output_type": "stream",
     "text": [
      "Device:  cuda\n"
     ]
    }
   ],
   "source": [
    "device = 'cuda' if torch.cuda.is_available() else 'cpu'\n",
    "print('Device: ', device)"
   ]
  },
  {
   "cell_type": "markdown",
   "id": "49d74971",
   "metadata": {},
   "source": [
    "# Graph embeddings"
   ]
  },
  {
   "cell_type": "markdown",
   "id": "0d000f9a",
   "metadata": {},
   "source": [
    "To begin with, we consider three ways to embed the graph data: SVD, GAE and VGAE."
   ]
  },
  {
   "cell_type": "markdown",
   "id": "ef9851c5",
   "metadata": {},
   "source": [
    "### Load and explore dataset"
   ]
  },
  {
   "cell_type": "markdown",
   "id": "7f956306",
   "metadata": {},
   "source": [
    "Before going into the patch graph, we explore embeddings of individual days using different methods."
   ]
  },
  {
   "cell_type": "code",
   "execution_count": 6,
   "id": "4bc19533",
   "metadata": {},
   "outputs": [],
   "source": [
    "date = '20000102'"
   ]
  },
  {
   "cell_type": "code",
   "execution_count": 7,
   "id": "96950a03",
   "metadata": {},
   "outputs": [
    {
     "data": {
      "text/plain": [
       "array([[    1,     1,     1, ..., 65002, 65051, 65105],\n",
       "       [  701,  2914,  2828, ...,  6509,  1668, 10994]])"
      ]
     },
     "execution_count": 7,
     "metadata": {},
     "output_type": "execute_result"
    }
   ],
   "source": [
    "dl = DataLoader(dataset='AS-733')\n",
    "graph = dl.get_graph(date)\n",
    "graph"
   ]
  },
  {
   "cell_type": "code",
   "execution_count": 8,
   "id": "a7002e57",
   "metadata": {},
   "outputs": [],
   "source": [
    "# Create graph information in various formats that will be useful \n",
    "G=nx.from_edgelist(list(graph.transpose()))\n",
    "num_nodes = G.number_of_nodes()\n",
    "num_edges = G.number_of_edges()\n",
    "edge_index = graph\n",
    "tgraph = TGraph(edge_index)\n",
    "node_list = np.unique(edge_index[0,:])"
   ]
  },
  {
   "cell_type": "code",
   "execution_count": 9,
   "id": "92973967",
   "metadata": {},
   "outputs": [
    {
     "name": "stdout",
     "output_type": "stream",
     "text": [
      "Number of nodes: 6474\n",
      "Number of edges: 13895\n",
      "Number of trinagles: 6584\n",
      "Number of self loops: 1323\n",
      "Is connected\n"
     ]
    }
   ],
   "source": [
    "print('Number of nodes:' , num_nodes)\n",
    "print('Number of edges:' , num_edges)\n",
    "print('Number of trinagles:' , int(sum(nx.triangles(G).values())/3))\n",
    "print('Number of self loops:', nx.number_of_selfloops(G))\n",
    "if nx.is_connected(G):\n",
    "    print('Is connected')"
   ]
  },
  {
   "cell_type": "markdown",
   "id": "7cfaf9f4",
   "metadata": {},
   "source": [
    "### SVD Embedding"
   ]
  },
  {
   "cell_type": "markdown",
   "id": "c57abbca",
   "metadata": {},
   "source": [
    "To be done. This is essentially PCA on the normalised adjacency matrix."
   ]
  },
  {
   "cell_type": "markdown",
   "id": "744c26f5",
   "metadata": {},
   "source": [
    "### GAE"
   ]
  },
  {
   "cell_type": "code",
   "execution_count": 10,
   "id": "e47079ac",
   "metadata": {},
   "outputs": [],
   "source": [
    "test_data = Data(x=speye(dl.num_nodes), edge_index=torch.tensor(edge_index))\n",
    "neg_edges = tg.utils.negative_sampling(test_data.edge_index, num_nodes=test_data.num_nodes)"
   ]
  },
  {
   "cell_type": "code",
   "execution_count": 11,
   "id": "7da5448a",
   "metadata": {},
   "outputs": [],
   "source": [
    "model = GAE(encoder=GAEconv(2, test_data.num_node_features))"
   ]
  },
  {
   "cell_type": "code",
   "execution_count": 12,
   "id": "b86db607",
   "metadata": {},
   "outputs": [
    {
     "name": "stdout",
     "output_type": "stream",
     "text": [
      "epoch 0: loss=1.3862941265106201\n",
      "epoch 1: loss=1.379939079284668\n",
      "epoch 2: loss=1.358974575996399\n",
      "epoch 3: loss=1.3200597763061523\n",
      "epoch 4: loss=1.2635209560394287\n",
      "epoch 5: loss=1.1939619779586792\n",
      "epoch 6: loss=1.1191871166229248\n",
      "epoch 7: loss=1.0461993217468262\n",
      "epoch 8: loss=0.9801418781280518\n",
      "epoch 9: loss=0.9228682518005371\n",
      "epoch 10: loss=0.874388575553894\n",
      "epoch 11: loss=0.8344501256942749\n",
      "epoch 12: loss=0.8004703521728516\n",
      "epoch 13: loss=0.7748931646347046\n",
      "epoch 14: loss=0.7537899613380432\n",
      "epoch 15: loss=0.738021194934845\n",
      "epoch 16: loss=0.7278551459312439\n",
      "epoch 17: loss=0.721011757850647\n",
      "epoch 18: loss=0.7203672528266907\n",
      "epoch 19: loss=0.7198572158813477\n",
      "epoch 20: loss=0.7126175165176392\n",
      "epoch 21: loss=0.7243722081184387\n",
      "epoch 22: loss=0.7201154828071594\n",
      "epoch 23: loss=0.7236119508743286\n",
      "epoch 24: loss=0.7247927784919739\n",
      "epoch 25: loss=0.7268640398979187\n",
      "epoch 26: loss=0.7343525886535645\n",
      "epoch 27: loss=0.7349995374679565\n",
      "epoch 28: loss=0.7388103008270264\n",
      "epoch 29: loss=0.7381294369697571\n",
      "epoch 30: loss=0.7435699701309204\n",
      "epoch 31: loss=0.7456464171409607\n",
      "epoch 32: loss=0.7512691617012024\n",
      "epoch 33: loss=0.744810163974762\n",
      "epoch 34: loss=0.7538819909095764\n",
      "epoch 35: loss=0.7424517869949341\n",
      "epoch 36: loss=0.7476997375488281\n",
      "epoch 37: loss=0.7461974620819092\n",
      "epoch 38: loss=0.7364857792854309\n",
      "epoch 39: loss=0.7389198541641235\n",
      "epoch 40: loss=0.7448858618736267\n",
      "epoch 41: loss=0.7414573431015015\n",
      "epoch 42: loss=0.7342405319213867\n",
      "epoch 43: loss=0.7377489805221558\n",
      "epoch 44: loss=0.7289599776268005\n",
      "epoch 45: loss=0.7317813038825989\n",
      "epoch 46: loss=0.7249211668968201\n",
      "epoch 47: loss=0.7277022004127502\n",
      "epoch 48: loss=0.7263802289962769\n",
      "epoch 49: loss=0.7234345078468323\n",
      "epoch 50: loss=0.7279807925224304\n",
      "epoch 51: loss=0.7244306206703186\n",
      "epoch 52: loss=0.7251972556114197\n",
      "epoch 53: loss=0.7260594964027405\n",
      "epoch 54: loss=0.7247927188873291\n",
      "epoch 55: loss=0.7229059934616089\n",
      "epoch 56: loss=0.7234290242195129\n",
      "epoch 57: loss=0.7243551015853882\n",
      "epoch 58: loss=0.7269616723060608\n",
      "epoch 59: loss=0.7258197665214539\n",
      "epoch 60: loss=0.7245270013809204\n",
      "epoch 61: loss=0.7258973717689514\n",
      "epoch 62: loss=0.7229210734367371\n",
      "epoch 63: loss=0.7221491932868958\n",
      "epoch 64: loss=0.725313127040863\n",
      "epoch 65: loss=0.724826455116272\n",
      "epoch 66: loss=0.7235012650489807\n",
      "epoch 67: loss=0.7212928533554077\n",
      "epoch 68: loss=0.7224605679512024\n",
      "epoch 69: loss=0.7192423343658447\n",
      "epoch 70: loss=0.7232107520103455\n",
      "epoch 71: loss=0.7199281454086304\n",
      "epoch 72: loss=0.7196435928344727\n",
      "epoch 73: loss=0.7223952412605286\n",
      "epoch 74: loss=0.7199727892875671\n",
      "epoch 75: loss=0.7231080532073975\n",
      "epoch 76: loss=0.7180172204971313\n",
      "epoch 77: loss=0.7189611792564392\n",
      "epoch 78: loss=0.7206869125366211\n",
      "epoch 79: loss=0.7164304852485657\n",
      "epoch 80: loss=0.7250343561172485\n",
      "epoch 81: loss=0.715569019317627\n",
      "epoch 82: loss=0.7183005213737488\n",
      "epoch 83: loss=0.7162345051765442\n",
      "epoch 84: loss=0.7196042537689209\n",
      "epoch 85: loss=0.7193663716316223\n",
      "epoch 86: loss=0.7181374430656433\n",
      "epoch 87: loss=0.7145900726318359\n",
      "epoch 88: loss=0.7175503373146057\n",
      "epoch 89: loss=0.7164600491523743\n",
      "epoch 90: loss=0.7169811129570007\n",
      "epoch 91: loss=0.7141869068145752\n",
      "epoch 92: loss=0.7161853909492493\n",
      "epoch 93: loss=0.7165564298629761\n",
      "epoch 94: loss=0.7180563807487488\n",
      "epoch 95: loss=0.7144590020179749\n",
      "epoch 96: loss=0.7164842486381531\n",
      "epoch 97: loss=0.7136523723602295\n",
      "epoch 98: loss=0.7182824611663818\n",
      "epoch 99: loss=0.7150412201881409\n",
      "epoch 100: loss=0.7166030406951904\n",
      "epoch 101: loss=0.714806318283081\n",
      "epoch 102: loss=0.7168786525726318\n",
      "epoch 103: loss=0.7156379818916321\n",
      "epoch 104: loss=0.7148842811584473\n",
      "epoch 105: loss=0.7190789580345154\n",
      "epoch 106: loss=0.7154496312141418\n",
      "epoch 107: loss=0.7135303020477295\n",
      "epoch 108: loss=0.713729977607727\n",
      "epoch 109: loss=0.7131261825561523\n",
      "epoch 110: loss=0.7176075577735901\n",
      "epoch 111: loss=0.7157155275344849\n",
      "epoch 112: loss=0.7143234610557556\n",
      "epoch 113: loss=0.7140779495239258\n",
      "epoch 114: loss=0.7149609923362732\n",
      "epoch 115: loss=0.7166292667388916\n",
      "epoch 116: loss=0.7130895853042603\n",
      "epoch 117: loss=0.7139073610305786\n",
      "epoch 118: loss=0.7137794494628906\n",
      "epoch 119: loss=0.7161686420440674\n",
      "epoch 120: loss=0.710167646408081\n",
      "epoch 121: loss=0.7124719619750977\n",
      "epoch 122: loss=0.7126964330673218\n",
      "epoch 123: loss=0.7120625376701355\n",
      "epoch 124: loss=0.7135590314865112\n",
      "epoch 125: loss=0.7149186730384827\n",
      "epoch 126: loss=0.7136472463607788\n",
      "epoch 127: loss=0.7117610573768616\n",
      "epoch 128: loss=0.7130564451217651\n",
      "epoch 129: loss=0.7153688669204712\n",
      "epoch 130: loss=0.7109617590904236\n",
      "epoch 131: loss=0.7133795022964478\n",
      "epoch 132: loss=0.713009238243103\n",
      "epoch 133: loss=0.7110366821289062\n",
      "epoch 134: loss=0.7097824215888977\n",
      "epoch 135: loss=0.7086090445518494\n",
      "epoch 136: loss=0.7087770104408264\n",
      "epoch 137: loss=0.711849570274353\n",
      "epoch 138: loss=0.7098954319953918\n",
      "epoch 139: loss=0.7094902992248535\n",
      "epoch 140: loss=0.7103047966957092\n",
      "epoch 141: loss=0.7120895981788635\n",
      "epoch 142: loss=0.7154696583747864\n",
      "epoch 143: loss=0.7109506130218506\n",
      "epoch 144: loss=0.7113751173019409\n",
      "epoch 145: loss=0.7104515433311462\n",
      "epoch 146: loss=0.7111539840698242\n",
      "epoch 147: loss=0.7110514640808105\n",
      "epoch 148: loss=0.712317168712616\n",
      "epoch 149: loss=0.7123124003410339\n",
      "epoch 150: loss=0.7099472880363464\n",
      "epoch 151: loss=0.7124994993209839\n",
      "epoch 152: loss=0.7112513184547424\n",
      "epoch 153: loss=0.7104985117912292\n",
      "epoch 154: loss=0.7088156342506409\n",
      "epoch 155: loss=0.7084575891494751\n",
      "epoch 156: loss=0.7152435779571533\n",
      "epoch 157: loss=0.7115031480789185\n",
      "epoch 158: loss=0.7148277163505554\n",
      "epoch 159: loss=0.7128475308418274\n",
      "epoch 160: loss=0.7134449481964111\n",
      "epoch 161: loss=0.7089588642120361\n",
      "epoch 162: loss=0.7091968059539795\n",
      "epoch 163: loss=0.7129490971565247\n",
      "epoch 164: loss=0.7100046873092651\n",
      "epoch 165: loss=0.7106054425239563\n",
      "epoch 166: loss=0.71254563331604\n",
      "epoch 167: loss=0.7110947966575623\n",
      "epoch 168: loss=0.7133361101150513\n",
      "epoch 169: loss=0.7105279564857483\n",
      "epoch 170: loss=0.7068261504173279\n",
      "epoch 171: loss=0.7122107744216919\n",
      "epoch 172: loss=0.7110257148742676\n",
      "epoch 173: loss=0.7113728523254395\n",
      "epoch 174: loss=0.7098706960678101\n",
      "epoch 175: loss=0.7120590209960938\n",
      "epoch 176: loss=0.7094396352767944\n",
      "epoch 177: loss=0.7136242985725403\n",
      "epoch 178: loss=0.7089053988456726\n",
      "epoch 179: loss=0.709734320640564\n",
      "epoch 180: loss=0.7081796526908875\n",
      "epoch 181: loss=0.7116097807884216\n",
      "epoch 182: loss=0.708020806312561\n",
      "epoch 183: loss=0.7091464400291443\n",
      "epoch 184: loss=0.7107842564582825\n",
      "epoch 185: loss=0.7095377445220947\n",
      "epoch 186: loss=0.7088005542755127\n",
      "epoch 187: loss=0.7092737555503845\n",
      "epoch 188: loss=0.7082348465919495\n",
      "epoch 189: loss=0.7095887660980225\n",
      "epoch 190: loss=0.7104266881942749\n",
      "epoch 191: loss=0.7119022607803345\n",
      "epoch 192: loss=0.7080398797988892\n",
      "epoch 193: loss=0.7108796238899231\n",
      "epoch 194: loss=0.7124216556549072\n",
      "epoch 195: loss=0.7077611684799194\n",
      "epoch 196: loss=0.7082106471061707\n",
      "epoch 197: loss=0.7139691710472107\n",
      "epoch 198: loss=0.7044163942337036\n",
      "epoch 199: loss=0.7119650840759277\n"
     ]
    }
   ],
   "source": [
    "model = train(test_data, model, loss_fun=GAE_loss, num_epochs=200)"
   ]
  },
  {
   "cell_type": "code",
   "execution_count": 15,
   "id": "7b9ee60b",
   "metadata": {},
   "outputs": [],
   "source": [
    "with torch.no_grad():\n",
    "    coord_ip = model.encode(test_data).numpy()"
   ]
  },
  {
   "cell_type": "code",
   "execution_count": 16,
   "id": "56c81232",
   "metadata": {},
   "outputs": [
    {
     "data": {
      "image/png": "[encoded data removed]",
      "text/plain": [
       "<Figure size 864x864 with 1 Axes>"
      ]
     },
     "metadata": {
      "needs_background": "light"
     },
     "output_type": "display_data"
    }
   ],
   "source": [
    "fig, ax = plt.subplots(1, 1, figsize=(12,12))\n",
    "ax.scatter(coord_ip[:, 0], coord_ip[:, 1], c=test_data.y, s=0.5)\n",
    "auc, ap = model.test(torch.tensor(coord_ip), test_data.edge_index, neg_edges)\n",
    "t = plt.title(f'Full model (inner product)\\n AUC: {auc:.3}, AP: {ap:.3}')"
   ]
  },
  {
   "cell_type": "markdown",
   "id": "455ec233",
   "metadata": {},
   "source": [
    "In progress: embed induce subgraph (that is, without isolated nodes), use higher dimensions and visualise with UMAP, compute patches."
   ]
  },
  {
   "cell_type": "markdown",
   "id": "e7cf52f2",
   "metadata": {},
   "source": [
    "### VGAE"
   ]
  },
  {
   "cell_type": "code",
   "execution_count": null,
   "id": "1d3c44b1",
   "metadata": {},
   "outputs": [],
   "source": [
    "model = VGAE(encoder=VGAEconv(2, test_data.num_node_features))"
   ]
  },
  {
   "cell_type": "code",
   "execution_count": null,
   "id": "315cb889",
   "metadata": {},
   "outputs": [],
   "source": [
    "model = train(test_data, model, loss_fun=VGAE_loss, num_epochs=200)"
   ]
  },
  {
   "cell_type": "code",
   "execution_count": null,
   "id": "b93a4176",
   "metadata": {},
   "outputs": [],
   "source": [
    "\n",
    "\n"
   ]
  }
 ],
 "metadata": {
  "kernelspec": {
   "display_name": "Python 3 (ipykernel)",
   "language": "python",
   "name": "python3"
  },
  "language_info": {
   "codemirror_mode": {
    "name": "ipython",
    "version": 3
   },
   "file_extension": ".py",
   "mimetype": "text/x-python",
   "name": "python",
   "nbconvert_exporter": "python",
   "pygments_lexer": "ipython3",
   "version": "3.10.4"
  }
 },
 "nbformat": 4,
 "nbformat_minor": 5
}
