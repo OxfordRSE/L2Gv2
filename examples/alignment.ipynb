{
 "cells": [
  {
   "cell_type": "code",
   "execution_count": 1,
   "metadata": {},
   "outputs": [],
   "source": [
    "%reload_ext autoreload\n",
    "%autoreload 2"
   ]
  },
  {
   "cell_type": "code",
   "execution_count": 2,
   "metadata": {},
   "outputs": [
    {
     "name": "stdout",
     "output_type": "stream",
     "text": [
      "Using device: cpu\n"
     ]
    }
   ],
   "source": [
    "import numpy as np\n",
    "import torch_geometric as tg\n",
    "import torch\n",
    "device = torch.device('cuda' if torch.cuda.is_available() else 'cpu')\n",
    "print(f\"Using device: {device}\")"
   ]
  },
  {
   "cell_type": "code",
   "execution_count": 26,
   "metadata": {},
   "outputs": [],
   "source": [
    "# Local imports\n",
    "from l2gv2.datasets import get_dataset\n",
    "from l2gv2.graphs import TGraph, induced_subgraph\n",
    "from l2gv2.patch import create_patch_data\n",
    "from l2gv2.patch.clustering import louvain_clustering, metis_clustering\n",
    "from l2gv2.embedding import patch_embeddings\n",
    "from l2gv2.align.utils import preprocess_graphs, get_embedding, intersections_nodes\n",
    "from l2gv2.align.geo import train_alignment_model\n",
    "from l2gv2.embedding.gae import VGAE\n"
   ]
  },
  {
   "cell_type": "markdown",
   "metadata": {},
   "source": [
    "# <font color=\"grey\"> Local2Global Alignment</font>"
   ]
  },
  {
   "cell_type": "markdown",
   "metadata": {},
   "source": [
    "We use the Cora citation index dataset for the experiments."
   ]
  },
  {
   "cell_type": "code",
   "execution_count": 14,
   "metadata": {},
   "outputs": [
    {
     "name": "stdout",
     "output_type": "stream",
     "text": [
      "Loading edge and node data from memory\n"
     ]
    },
    {
     "data": {
      "application/vnd.jupyter.widget-view+json": {
       "model_id": "2eeb891a3df346aeac530fc89b20eec9",
       "version_major": 2,
       "version_minor": 0
      },
      "text/plain": [
       "HBox(children=(HTML(value=''), IntProgress(value=0, max=10556), HTML(value='')))"
      ]
     },
     "metadata": {},
     "output_type": "display_data"
    },
    {
     "data": {
      "application/vnd.jupyter.widget-view+json": {
       "model_id": "063bd01455d44928a49e636821162f53",
       "version_major": 2,
       "version_minor": 0
      },
      "text/plain": [
       "HBox(children=(HTML(value=''), IntProgress(value=0, max=2708), HTML(value='')))"
      ]
     },
     "metadata": {},
     "output_type": "display_data"
    }
   ],
   "source": [
    "cora = get_dataset(\"Cora\")\n",
    "tgcora = TGraph(edge_index=cora[0].edge_index, \n",
    "                edge_attr=cora[0].edge_attr,  \n",
    "                num_nodes=cora[0].num_nodes, \n",
    "                ensure_sorted=True, \n",
    "                undir=False)"
   ]
  },
  {
   "cell_type": "markdown",
   "metadata": {},
   "source": []
  },
  {
   "cell_type": "code",
   "execution_count": 15,
   "metadata": {},
   "outputs": [],
   "source": [
    "min_overlap = 100\n",
    "target_overlap = 200\n",
    "dim = 64"
   ]
  },
  {
   "cell_type": "code",
   "execution_count": 17,
   "metadata": {},
   "outputs": [],
   "source": [
    "partition_tensor = louvain_clustering(tgcora)"
   ]
  },
  {
   "cell_type": "code",
   "execution_count": 7,
   "metadata": {},
   "outputs": [
    {
     "data": {
      "text/plain": [
       "tensor([ 0, 28, 28,  ..., 49,  0,  0])"
      ]
     },
     "execution_count": 7,
     "metadata": {},
     "output_type": "execute_result"
    }
   ],
   "source": [
    "partition_tensor"
   ]
  },
  {
   "cell_type": "code",
   "execution_count": 18,
   "metadata": {},
   "outputs": [
    {
     "name": "stdout",
     "output_type": "stream",
     "text": [
      "number of patches: 12\n",
      "average patch degree: 3.75\n"
     ]
    },
    {
     "data": {
      "application/vnd.jupyter.widget-view+json": {
       "model_id": "f9d7a089608e4e2198c3da5cdb58411b",
       "version_major": 2,
       "version_minor": 0
      },
      "text/plain": [
       "enlarging patch overlaps:   0%|          | 0/12 [00:00<?, ?it/s]"
      ]
     },
     "metadata": {},
     "output_type": "display_data"
    }
   ],
   "source": [
    "pt, pgraph= create_patch_data(tgcora, \n",
    "                              partition_tensor=partition_tensor,\n",
    "                              min_overlap=min_overlap, \n",
    "                              target_overlap=target_overlap, \n",
    "                              verbose=True)"
   ]
  },
  {
   "cell_type": "code",
   "execution_count": 23,
   "metadata": {},
   "outputs": [],
   "source": [
    "patches = [induced_subgraph(tgcora, p) for p in pt]\n",
    "neg_edges = tg.utils.negative_sampling(tgcora.edge_index, num_nodes=tgcora.num_nodes)"
   ]
  },
  {
   "cell_type": "code",
   "execution_count": 24,
   "metadata": {},
   "outputs": [
    {
     "name": "stdout",
     "output_type": "stream",
     "text": [
      "training patch with 2702 edges\n",
      "training patch with 2304 edges\n",
      "training patch with 1264 edges\n",
      "training patch with 1492 edges\n",
      "training patch with 2518 edges\n",
      "training patch with 1172 edges\n",
      "training patch with 2186 edges\n",
      "training patch with 1262 edges\n",
      "training patch with 1290 edges\n",
      "training patch with 3206 edges\n",
      "training patch with 1528 edges\n",
      "training patch with 1948 edges\n"
     ]
    }
   ],
   "source": [
    "patches_emb, _ = patch_embeddings(patches, model=\"VGAE\", dim=dim, hidden_dim=128, num_epochs=200, device=device)\n",
    "nodes = intersections_nodes(patches)\n",
    "n_patches = len(patches)"
   ]
  },
  {
   "cell_type": "code",
   "execution_count": null,
   "metadata": {},
   "outputs": [],
   "source": [
    "emb_patches = preprocess_graphs(patches_emb, nodes)\n",
    "res, loss_hist = train_alignment_model(emb_patches, dim, n_patches , num_epochs=200, learning_rate=0.05, verbose=False)\n",
    "emb = get_embedding(patches_emb, res)\n",
    "full_model_ip = VGAE(dim=dim, hidden_dim=128, num_features=cora.num_node_features)\n",
    "auc, ap = full_model_ip.test(torch.tensor(emb), cora.edge_index, neg_edges)"
   ]
  }
 ],
 "metadata": {
  "kernelspec": {
   "display_name": ".venv",
   "language": "python",
   "name": "python3"
  },
  "language_info": {
   "codemirror_mode": {
    "name": "ipython",
    "version": 3
   },
   "file_extension": ".py",
   "mimetype": "text/x-python",
   "name": "python",
   "nbconvert_exporter": "python",
   "pygments_lexer": "ipython3",
   "version": "3.12.4"
  }
 },
 "nbformat": 4,
 "nbformat_minor": 2
}
